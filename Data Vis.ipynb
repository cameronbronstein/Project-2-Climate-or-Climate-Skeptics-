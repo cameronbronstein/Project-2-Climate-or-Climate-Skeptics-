{
 "cells": [
  {
   "cell_type": "markdown",
   "metadata": {},
   "source": [
    "## Presentat"
   ]
  },
  {
   "cell_type": "code",
   "execution_count": 3,
   "metadata": {},
   "outputs": [],
   "source": [
    "import pandas as pd\n",
    "import matplotlib.pyplot as plt\n",
    "import seaborn as sns\n",
    "\n",
    "%matplotlib inline"
   ]
  },
  {
   "cell_type": "code",
   "execution_count": 35,
   "metadata": {},
   "outputs": [],
   "source": [
    "model_scores= {'K Nearest Neighbors': 0.646, 'Multinomial Naive Bayes':0.730, 'Logistic Regression': 0.746,\n",
    "               'Logistic Regression Lemm': 0.755, 'Decision Tree Classifier': 0.666, \n",
    "               'Random Forest': 0.724, 'Extra Forest': 0.700, 'Bagged Decision Tree': 0.767, \n",
    "               'Bagged Logistic Regression': 0.757, 'Boosted Logistic Regression': 0.728, \n",
    "               'Final Logistic Regression': 0.753, 'Final Bagged Logistic Regression': 0.754, \n",
    "               'Final Bagged Decision Tree': 0.820}\n"
   ]
  },
  {
   "cell_type": "code",
   "execution_count": 38,
   "metadata": {},
   "outputs": [
    {
     "data": {
      "text/plain": [
       "13"
      ]
     },
     "execution_count": 38,
     "metadata": {},
     "output_type": "execute_result"
    }
   ],
   "source": [
    "model_scores.keys()"
   ]
  },
  {
   "cell_type": "code",
   "execution_count": 46,
   "metadata": {},
   "outputs": [],
   "source": [
    "scores_df = pd.DataFrame(index=model_scores.keys(), \n",
    "             columns=['Scores'], \n",
    "             data=[0.646, 0.730, 0.746, 0.755, 0.666, 0.724, 0.700, 0.767, 0.757, 0.728, 0.753, 0.754, 0.820])"
   ]
  },
  {
   "cell_type": "code",
   "execution_count": 47,
   "metadata": {},
   "outputs": [],
   "source": [
    "scores_df['features'] = ['Title', 'Title', 'Title', 'Lemmatized', 'Lemmatized', 'Lemmatized', 'Lemmatized',\n",
    "                  'Lemmatized', 'Lemmatized', 'Lemmatized', 'Final', 'Final', 'Final']"
   ]
  },
  {
   "cell_type": "code",
   "execution_count": 48,
   "metadata": {
    "scrolled": true
   },
   "outputs": [
    {
     "data": {
      "text/html": [
       "<div>\n",
       "<style scoped>\n",
       "    .dataframe tbody tr th:only-of-type {\n",
       "        vertical-align: middle;\n",
       "    }\n",
       "\n",
       "    .dataframe tbody tr th {\n",
       "        vertical-align: top;\n",
       "    }\n",
       "\n",
       "    .dataframe thead th {\n",
       "        text-align: right;\n",
       "    }\n",
       "</style>\n",
       "<table border=\"1\" class=\"dataframe\">\n",
       "  <thead>\n",
       "    <tr style=\"text-align: right;\">\n",
       "      <th></th>\n",
       "      <th>Scores</th>\n",
       "      <th>features</th>\n",
       "    </tr>\n",
       "  </thead>\n",
       "  <tbody>\n",
       "    <tr>\n",
       "      <th>K Nearest Neighbors</th>\n",
       "      <td>0.646</td>\n",
       "      <td>Title</td>\n",
       "    </tr>\n",
       "    <tr>\n",
       "      <th>Multinomial Naive Bayes</th>\n",
       "      <td>0.730</td>\n",
       "      <td>Title</td>\n",
       "    </tr>\n",
       "    <tr>\n",
       "      <th>Logistic Regression</th>\n",
       "      <td>0.746</td>\n",
       "      <td>Title</td>\n",
       "    </tr>\n",
       "    <tr>\n",
       "      <th>Logistic Regression Lemm</th>\n",
       "      <td>0.755</td>\n",
       "      <td>Lemmatized</td>\n",
       "    </tr>\n",
       "    <tr>\n",
       "      <th>Decision Tree Classifier</th>\n",
       "      <td>0.666</td>\n",
       "      <td>Lemmatized</td>\n",
       "    </tr>\n",
       "    <tr>\n",
       "      <th>Random Forest</th>\n",
       "      <td>0.724</td>\n",
       "      <td>Lemmatized</td>\n",
       "    </tr>\n",
       "    <tr>\n",
       "      <th>Extra Forest</th>\n",
       "      <td>0.700</td>\n",
       "      <td>Lemmatized</td>\n",
       "    </tr>\n",
       "    <tr>\n",
       "      <th>Bagged Decision Tree</th>\n",
       "      <td>0.767</td>\n",
       "      <td>Lemmatized</td>\n",
       "    </tr>\n",
       "    <tr>\n",
       "      <th>Bagged Logistic Regression</th>\n",
       "      <td>0.757</td>\n",
       "      <td>Lemmatized</td>\n",
       "    </tr>\n",
       "    <tr>\n",
       "      <th>Boosted Logistic Regression</th>\n",
       "      <td>0.728</td>\n",
       "      <td>Lemmatized</td>\n",
       "    </tr>\n",
       "    <tr>\n",
       "      <th>Final Logistic Regression</th>\n",
       "      <td>0.753</td>\n",
       "      <td>Final</td>\n",
       "    </tr>\n",
       "    <tr>\n",
       "      <th>Final Bagged Logistic Regression</th>\n",
       "      <td>0.754</td>\n",
       "      <td>Final</td>\n",
       "    </tr>\n",
       "    <tr>\n",
       "      <th>Final Bagged Decision Tree</th>\n",
       "      <td>0.820</td>\n",
       "      <td>Final</td>\n",
       "    </tr>\n",
       "  </tbody>\n",
       "</table>\n",
       "</div>"
      ],
      "text/plain": [
       "                                  Scores    features\n",
       "K Nearest Neighbors                0.646       Title\n",
       "Multinomial Naive Bayes            0.730       Title\n",
       "Logistic Regression                0.746       Title\n",
       "Logistic Regression Lemm           0.755  Lemmatized\n",
       "Decision Tree Classifier           0.666  Lemmatized\n",
       "Random Forest                      0.724  Lemmatized\n",
       "Extra Forest                       0.700  Lemmatized\n",
       "Bagged Decision Tree               0.767  Lemmatized\n",
       "Bagged Logistic Regression         0.757  Lemmatized\n",
       "Boosted Logistic Regression        0.728  Lemmatized\n",
       "Final Logistic Regression          0.753       Final\n",
       "Final Bagged Logistic Regression   0.754       Final\n",
       "Final Bagged Decision Tree         0.820       Final"
      ]
     },
     "execution_count": 48,
     "metadata": {},
     "output_type": "execute_result"
    }
   ],
   "source": [
    "scores_df"
   ]
  },
  {
   "cell_type": "code",
   "execution_count": 54,
   "metadata": {},
   "outputs": [],
   "source": [
    "scores_df.reset_index(inplace=True)"
   ]
  },
  {
   "cell_type": "code",
   "execution_count": 56,
   "metadata": {},
   "outputs": [],
   "source": [
    "scores_df.columns=['Model', 'Scores', 'Features']"
   ]
  },
  {
   "cell_type": "code",
   "execution_count": 112,
   "metadata": {
    "scrolled": true
   },
   "outputs": [],
   "source": [
    "notable = scores_df[scores_df['Scores'] > 0.73]"
   ]
  },
  {
   "cell_type": "code",
   "execution_count": 115,
   "metadata": {},
   "outputs": [
    {
     "data": {
      "text/html": [
       "<div>\n",
       "<style scoped>\n",
       "    .dataframe tbody tr th:only-of-type {\n",
       "        vertical-align: middle;\n",
       "    }\n",
       "\n",
       "    .dataframe tbody tr th {\n",
       "        vertical-align: top;\n",
       "    }\n",
       "\n",
       "    .dataframe thead th {\n",
       "        text-align: right;\n",
       "    }\n",
       "</style>\n",
       "<table border=\"1\" class=\"dataframe\">\n",
       "  <thead>\n",
       "    <tr style=\"text-align: right;\">\n",
       "      <th></th>\n",
       "      <th>Model</th>\n",
       "      <th>Scores</th>\n",
       "      <th>Features</th>\n",
       "    </tr>\n",
       "  </thead>\n",
       "  <tbody>\n",
       "    <tr>\n",
       "      <th>2</th>\n",
       "      <td>Logistic Regression</td>\n",
       "      <td>0.746</td>\n",
       "      <td>Title</td>\n",
       "    </tr>\n",
       "    <tr>\n",
       "      <th>3</th>\n",
       "      <td>Logistic Regression Lemm</td>\n",
       "      <td>0.755</td>\n",
       "      <td>Lemmatized</td>\n",
       "    </tr>\n",
       "    <tr>\n",
       "      <th>7</th>\n",
       "      <td>Bagged Decision Tree</td>\n",
       "      <td>0.767</td>\n",
       "      <td>Lemmatized</td>\n",
       "    </tr>\n",
       "    <tr>\n",
       "      <th>8</th>\n",
       "      <td>Bagged Logistic Regression</td>\n",
       "      <td>0.757</td>\n",
       "      <td>Lemmatized</td>\n",
       "    </tr>\n",
       "    <tr>\n",
       "      <th>10</th>\n",
       "      <td>Final Logistic Regression</td>\n",
       "      <td>0.753</td>\n",
       "      <td>Final</td>\n",
       "    </tr>\n",
       "    <tr>\n",
       "      <th>11</th>\n",
       "      <td>Final Bagged Logistic Regression</td>\n",
       "      <td>0.754</td>\n",
       "      <td>Final</td>\n",
       "    </tr>\n",
       "    <tr>\n",
       "      <th>12</th>\n",
       "      <td>Final Bagged Decision Tree</td>\n",
       "      <td>0.820</td>\n",
       "      <td>Final</td>\n",
       "    </tr>\n",
       "  </tbody>\n",
       "</table>\n",
       "</div>"
      ],
      "text/plain": [
       "                               Model  Scores    Features\n",
       "2                Logistic Regression   0.746       Title\n",
       "3           Logistic Regression Lemm   0.755  Lemmatized\n",
       "7               Bagged Decision Tree   0.767  Lemmatized\n",
       "8         Bagged Logistic Regression   0.757  Lemmatized\n",
       "10         Final Logistic Regression   0.753       Final\n",
       "11  Final Bagged Logistic Regression   0.754       Final\n",
       "12        Final Bagged Decision Tree   0.820       Final"
      ]
     },
     "execution_count": 115,
     "metadata": {},
     "output_type": "execute_result"
    }
   ],
   "source": [
    "notable"
   ]
  },
  {
   "cell_type": "code",
   "execution_count": 133,
   "metadata": {
    "scrolled": false
   },
   "outputs": [
    {
     "data": {
      "image/png": "[encoded data removed]",
      "text/plain": [
       "<Figure size 576x576 with 1 Axes>"
      ]
     },
     "metadata": {
      "needs_background": "light"
     },
     "output_type": "display_data"
    }
   ],
   "source": [
    "plt.figure(figsize=(8,8))\n",
    "plt.title('Model Scores')\n",
    "\n",
    "ax = plt.barh(y=scores_df[scores_df['Scores'] > 0.73]['Model'],\n",
    "        width=scores_df[scores_df['Scores'] > 0.73]['Scores'], color='blue', alpha=0.7)\n"
   ]
  },
  {
   "cell_type": "code",
   "execution_count": 81,
   "metadata": {},
   "outputs": [],
   "source": [
    "from nltk.tokenize import RegexpTokenizer\n",
    "from nltk import WordNetLemmatizer\n",
    "from nltk.stem import PorterStemmer"
   ]
  },
  {
   "cell_type": "code",
   "execution_count": 96,
   "metadata": {},
   "outputs": [
    {
     "name": "stdout",
     "output_type": "stream",
     "text": [
      "['How', 'could', 'I', 'possibly', 'know', 'what', 'tokenize', 'is', 'doing']\n",
      "\n",
      "python\n",
      "\n",
      "['how', 'could', 'I', 'possibl', 'know', 'what', 'token', 'is', 'do']\n"
     ]
    }
   ],
   "source": [
    "tokenizer = RegexpTokenizer(r'\\w+')\n",
    "lemmatizer = WordNetLemmatizer()\n",
    "stemmer = PorterStemmer()\n",
    "\n",
    "demo = tokenizer.tokenize(\n",
    "    \"\"\"How could I possibly know \n",
    "       what tokenize is doing?\"\"\")\n",
    "lemma = lemmatizer.lemmatize(\"pythons\")\n",
    "stems = [stemmer.stem(i) for i in demo]\n",
    "\n",
    "\n",
    "print(demo)\n",
    "print(\"\")\n",
    "print(lemma)\n",
    "print(\"\")\n",
    "print(stems)"
   ]
  }
 ],
 "metadata": {
  "kernelspec": {
   "display_name": "Python 3",
   "language": "python",
   "name": "python3"
  },
  "language_info": {
   "codemirror_mode": {
    "name": "ipython",
    "version": 3
   },
   "file_extension": ".py",
   "mimetype": "text/x-python",
   "name": "python",
   "nbconvert_exporter": "python",
   "pygments_lexer": "ipython3",
   "version": "3.6.6"
  }
 },
 "nbformat": 4,
 "nbformat_minor": 2
}
