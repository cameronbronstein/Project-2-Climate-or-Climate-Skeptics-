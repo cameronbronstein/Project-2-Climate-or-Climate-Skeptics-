{
 "cells": [
  {
   "cell_type": "markdown",
   "metadata": {},
   "source": [
    "# Cameron Bronstein \n",
    "## Project 3 - Web APIs and Subreddit Classification\n"
   ]
  },
  {
   "cell_type": "code",
   "execution_count": 3,
   "metadata": {},
   "outputs": [],
   "source": [
    "import requests\n",
    "import time\n",
    "import pandas as pd\n",
    "import numpy as np\n",
    "import seaborn as sns\n",
    "import matplotlib.pyplot as plt\n",
    "%matplotlib inline\n",
    "\n",
    "from nltk.tokenize import RegexpTokenizer\n",
    "from nltk import WordNetLemmatizer\n",
    "from nltk.stem import PorterStemmer\n",
    "from nltk.sentiment.vader import SentimentIntensityAnalyzer\n",
    "\n",
    "from sklearn.feature_extraction.text import CountVectorizer, TfidfVectorizer\n",
    "from sklearn.model_selection import train_test_split, cross_val_score, GridSearchCV\n",
    "from sklearn.pipeline import Pipeline\n",
    "from sklearn.linear_model import LogisticRegressionCV, LogisticRegression\n",
    "from sklearn.neighbors import KNeighborsClassifier\n",
    "from sklearn.naive_bayes import MultinomialNB, BernoulliNB\n",
    "from sklearn.tree import DecisionTreeClassifier\n",
    "from sklearn.ensemble import RandomForestClassifier, BaggingClassifier, ExtraTreesClassifier, AdaBoostClassifier\n",
    "\n",
    "from sklearn.metrics import confusion_matrix\n",
    "from sklearn.metrics import accuracy_score\n",
    "\n",
    "import warnings\n",
    "warnings.simplefilter(action='ignore', category=FutureWarning)"
   ]
  },
  {
   "cell_type": "markdown",
   "metadata": {},
   "source": [
    "# Data Collection via Reddit API"
   ]
  },
  {
   "cell_type": "markdown",
   "metadata": {},
   "source": [
    "**Setting up urls, headers, and getting initial response back from reddit.**\n",
    "\n",
    "I used the \"climate\" and \"climate skeptics\" subreddits as I thought these would be interesting to compare using natural language processing (and believing that people seeking out climate change related research or journalism are typically a smaller, scientifically educated bunch, while climate change deniers typically have less technical training and are significantly more right leaning in their politics)."
   ]
  },
  {
   "cell_type": "code",
   "execution_count": 552,
   "metadata": {},
   "outputs": [],
   "source": [
    "url_climate = 'https://www.reddit.com/r/climate.json'            #Making a request directly on the json text \n",
    "url_skeptics = 'https://www.reddit.com/r/climateskeptics.json'   #of each subreddit\n",
    "\n",
    "headers = {'User-agent': 'cameron_b'}                  #I specifiy a 'User-agent' as an ID for reddit's API\n",
    "\n",
    "res_climate = requests.get(url_climate, headers=headers)\n",
    "res_skeptic = requests.get(url_skeptics, headers=headers)"
   ]
  },
  {
   "cell_type": "markdown",
   "metadata": {},
   "source": [
    "**Here, I first made a single request and json object from each subreddit to understand the json formatting. This helped me build the function below and store the information I wanted into a dataframe.**"
   ]
  },
  {
   "cell_type": "code",
   "execution_count": 553,
   "metadata": {},
   "outputs": [],
   "source": [
    "climate_json = res_climate.json()\n",
    "skeptic_json = res_skeptic.json()"
   ]
  },
  {
   "cell_type": "code",
   "execution_count": 557,
   "metadata": {
    "scrolled": true
   },
   "outputs": [
    {
     "data": {
      "text/plain": [
       "'Green New Deal Has Overwhelming Bipartisan Support, Poll Finds. At Least, For Now. Sixty-four percent of Republicans — including 57 percent of conservative Republicans — back the core tenets of the sweeping proposal.'"
      ]
     },
     "execution_count": 557,
     "metadata": {},
     "output_type": "execute_result"
    }
   ],
   "source": [
    "climate_json['data']['children'][0]['data']['title']            #this will be my 'X' variable"
   ]
  },
  {
   "cell_type": "code",
   "execution_count": 229,
   "metadata": {},
   "outputs": [
    {
     "data": {
      "text/plain": [
       "'climate'"
      ]
     },
     "execution_count": 229,
     "metadata": {},
     "output_type": "execute_result"
    }
   ],
   "source": [
    "climate_json['data']['children'][0]['data']['subreddit']        #this will be my target variable"
   ]
  },
  {
   "cell_type": "code",
   "execution_count": 558,
   "metadata": {},
   "outputs": [
    {
     "data": {
      "text/plain": [
       "'t3_a70c1r'"
      ]
     },
     "execution_count": 558,
     "metadata": {},
     "output_type": "execute_result"
    }
   ],
   "source": [
    "#id of the last post in the list - each request loop will specify a new 'after' ID.\n",
    "climate_json['data']['after']"
   ]
  },
  {
   "cell_type": "markdown",
   "metadata": {},
   "source": [
    "### Function to make Reddit API request and convert all the desired text into a dataframe"
   ]
  },
  {
   "cell_type": "code",
   "execution_count": 559,
   "metadata": {},
   "outputs": [],
   "source": [
    "def url_to_dataframe(url, header, loop_count, after=None):\n",
    "    headers = {'User-agent': header}                #In case reddit blocked access to the API,\n",
    "    posts = []                                      #I could specify a new User-agent each time I run the function\n",
    "\n",
    "    for i in range(loop_count):                     #Loop-count = number of requests, with 25 posts per loop\n",
    "        print(\"Processing Loop number: \" + str(i))\n",
    "        if after == None:                           #Typically, there is no after for the first loop because I\n",
    "             params = {}                            #start from the first post in the subreddit\n",
    "        else:\n",
    "            params = {'after': after}               #other loops will specify a new 'after' - variable below\n",
    "        new_url = url\n",
    "        res = requests.get(new_url, params=params, headers=headers)       #request\n",
    "        if res.status_code == 200: \n",
    "            the_json = res.json()                   #getting the json of the web text -a list of dictionaries!\n",
    "            for i in the_json['data']['children']:  #for each dictionary in list\n",
    "                text_dict = {}                      #instaniate new dictionary with keys for all the 'columns'\n",
    "                text_dict['url'] = i['data']['url']\n",
    "                text_dict['post_title'] = i['data']['title']\n",
    "                text_dict['subreddit'] = i['data']['subreddit']\n",
    "                text_dict['ups'] = i['data']['ups']\n",
    "                text_dict['domain'] = i['data']['domain']\n",
    "                text_dict['downs'] = i['data']['downs']\n",
    "                text_dict['score'] = i['data']['score']\n",
    "                text_dict['num_comments'] = i['data']['num_comments']\n",
    " \n",
    "                posts.append(text_dict)         #creating a list of dictionaries, all with the same keys(columns)\n",
    "                                                #each dictionary is a row in the dataframe\n",
    "            after = the_json['data']['after']\n",
    "            print(after)\n",
    "        \n",
    "        else:\n",
    "            print(res.status_code)\n",
    "            break\n",
    "        \n",
    "        time.sleep(2)\n",
    "    \n",
    "            \n",
    "    return pd.DataFrame(posts)                  #convert list of dictionaries to dataframe."
   ]
  },
  {
   "cell_type": "markdown",
   "metadata": {},
   "source": [
    "### Calling the function on each subreddit and getting all of my data."
   ]
  },
  {
   "cell_type": "code",
   "execution_count": 560,
   "metadata": {
    "scrolled": true
   },
   "outputs": [],
   "source": [
    "climate = url_to_dataframe(url_climate,\n",
    "                               header = 'goodmorning',\n",
    "                               loop_count=40, after='t3_a1tksv')"
   ]
  },
  {
   "cell_type": "code",
   "execution_count": 561,
   "metadata": {
    "scrolled": true
   },
   "outputs": [],
   "source": [
    "skeptic = url_to_dataframe(url_skeptics, \n",
    "                              header = 'deeedumdeeedlydooahh', \n",
    "                              loop_count=40, after= 't3_a1vb41')"
   ]
  },
  {
   "cell_type": "markdown",
   "metadata": {},
   "source": [
    "### Some cleanup to remove duplicates... \n",
    "\n",
    "**Initially I tried to run the requests function multiple times to get more than 1000 posts per subreddit. However, I was limited to 1000 unique posts by the API - which continued to pull the same posts over and over.**"
   ]
  },
  {
   "cell_type": "code",
   "execution_count": 285,
   "metadata": {},
   "outputs": [],
   "source": [
    "#appending of multiple dataframes resulted in duplicate posts and duplicate index values\n",
    "climate.reset_index(drop=True, inplace=True)"
   ]
  },
  {
   "cell_type": "code",
   "execution_count": 309,
   "metadata": {
    "scrolled": true
   },
   "outputs": [],
   "source": [
    "#dropping duplicates!\n",
    "climate.drop_duplicates(keep='first', inplace=True)"
   ]
  },
  {
   "cell_type": "code",
   "execution_count": 317,
   "metadata": {},
   "outputs": [],
   "source": [
    "climate['post_title'].drop_duplicates(inplace=True)"
   ]
  },
  {
   "cell_type": "code",
   "execution_count": 324,
   "metadata": {},
   "outputs": [
    {
     "name": "stdout",
     "output_type": "stream",
     "text": [
      "<class 'pandas.core.frame.DataFrame'>\n",
      "Int64Index: 1541 entries, 0 to 2492\n",
      "Data columns (total 9 columns):\n",
      "domain              1541 non-null object\n",
      "downs               1541 non-null int64\n",
      "mod_reason_title    0 non-null object\n",
      "num_comments        1541 non-null int64\n",
      "post_title          1541 non-null object\n",
      "score               1541 non-null int64\n",
      "subreddit           1541 non-null object\n",
      "ups                 1541 non-null int64\n",
      "url                 1541 non-null object\n",
      "dtypes: int64(4), object(5)\n",
      "memory usage: 116.0+ KB\n"
     ]
    }
   ],
   "source": [
    "climate.info()"
   ]
  },
  {
   "cell_type": "markdown",
   "metadata": {},
   "source": [
    "## Combining dataframes into a final Skeptic Subreddit DF \n",
    "_This was the result of multiple API requests_"
   ]
  },
  {
   "cell_type": "code",
   "execution_count": 232,
   "metadata": {},
   "outputs": [],
   "source": [
    "skeptic = skeptic_df.append(skeptic_df_2)"
   ]
  },
  {
   "cell_type": "code",
   "execution_count": 234,
   "metadata": {},
   "outputs": [
    {
     "data": {
      "text/plain": [
       "(2219, 10)"
      ]
     },
     "execution_count": 234,
     "metadata": {},
     "output_type": "execute_result"
    }
   ],
   "source": [
    "skeptic.shape"
   ]
  },
  {
   "cell_type": "code",
   "execution_count": 315,
   "metadata": {
    "scrolled": true
   },
   "outputs": [
    {
     "data": {
      "text/plain": [
       "(1001,)"
      ]
     },
     "execution_count": 315,
     "metadata": {},
     "output_type": "execute_result"
    }
   ],
   "source": [
    "skeptic['post_title'].drop_duplicates().shape"
   ]
  },
  {
   "cell_type": "code",
   "execution_count": 326,
   "metadata": {},
   "outputs": [],
   "source": [
    "skeptic.drop('media', axis=1, inplace=True)"
   ]
  },
  {
   "cell_type": "markdown",
   "metadata": {},
   "source": [
    "### Combining climate and climate_skeptics subreddits into on dataframe"
   ]
  },
  {
   "cell_type": "code",
   "execution_count": 327,
   "metadata": {},
   "outputs": [],
   "source": [
    "df = climate.append(skeptic)"
   ]
  },
  {
   "cell_type": "code",
   "execution_count": 337,
   "metadata": {},
   "outputs": [],
   "source": [
    "#dropping this because it was almost completely null for all the reddit posts I pulled.\n",
    "df.drop('mod_reason_title', axis=1, inplace=True)"
   ]
  },
  {
   "cell_type": "code",
   "execution_count": 340,
   "metadata": {},
   "outputs": [],
   "source": [
    "#resetting index as combining dataframes resulted in duplicated indices.\n",
    "df.reset_index(inplace=True)"
   ]
  },
  {
   "cell_type": "markdown",
   "metadata": {},
   "source": [
    "**Dropping all duplicate posts, based on the post title**"
   ]
  },
  {
   "cell_type": "code",
   "execution_count": 345,
   "metadata": {},
   "outputs": [],
   "source": [
    "#df['post_title'].value_counts(ascending=False) easily showed if there were any duplicate posts\n",
    "df.drop_duplicates(subset='post_title', keep='first', inplace=True)"
   ]
  },
  {
   "cell_type": "code",
   "execution_count": 348,
   "metadata": {},
   "outputs": [
    {
     "data": {
      "text/plain": [
       "climateskeptics    990\n",
       "climate            979\n",
       "Name: subreddit, dtype: int64"
      ]
     },
     "execution_count": 348,
     "metadata": {},
     "output_type": "execute_result"
    }
   ],
   "source": [
    "df.subreddit.value_counts()"
   ]
  },
  {
   "cell_type": "code",
   "execution_count": 361,
   "metadata": {},
   "outputs": [],
   "source": [
    "df.drop(columns='index', inplace=True)"
   ]
  },
  {
   "cell_type": "code",
   "execution_count": 365,
   "metadata": {},
   "outputs": [
    {
     "data": {
      "text/plain": [
       "Index(['domain', 'downs', 'num_comments', 'post_title', 'score', 'subreddit',\n",
       "       'ups', 'url'],\n",
       "      dtype='object')"
      ]
     },
     "execution_count": 365,
     "metadata": {},
     "output_type": "execute_result"
    }
   ],
   "source": [
    "df.columns"
   ]
  },
  {
   "cell_type": "code",
   "execution_count": 381,
   "metadata": {
    "scrolled": true
   },
   "outputs": [
    {
     "data": {
      "text/html": [
       "<div>\n",
       "<style scoped>\n",
       "    .dataframe tbody tr th:only-of-type {\n",
       "        vertical-align: middle;\n",
       "    }\n",
       "\n",
       "    .dataframe tbody tr th {\n",
       "        vertical-align: top;\n",
       "    }\n",
       "\n",
       "    .dataframe thead th {\n",
       "        text-align: right;\n",
       "    }\n",
       "</style>\n",
       "<table border=\"1\" class=\"dataframe\">\n",
       "  <thead>\n",
       "    <tr style=\"text-align: right;\">\n",
       "      <th></th>\n",
       "      <th>domain</th>\n",
       "      <th>downs</th>\n",
       "      <th>num_comments</th>\n",
       "      <th>post_title</th>\n",
       "      <th>score</th>\n",
       "      <th>subreddit</th>\n",
       "      <th>ups</th>\n",
       "      <th>url</th>\n",
       "    </tr>\n",
       "  </thead>\n",
       "  <tbody>\n",
       "    <tr>\n",
       "      <th>0</th>\n",
       "      <td>nytimes.com</td>\n",
       "      <td>0</td>\n",
       "      <td>5</td>\n",
       "      <td>John Kerry: Forget Trump. We All Must Act on C...</td>\n",
       "      <td>89</td>\n",
       "      <td>climate</td>\n",
       "      <td>89</td>\n",
       "      <td>https://www.nytimes.com/2018/12/13/opinion/ker...</td>\n",
       "    </tr>\n",
       "    <tr>\n",
       "      <th>1</th>\n",
       "      <td>i.redd.it</td>\n",
       "      <td>0</td>\n",
       "      <td>3</td>\n",
       "      <td>The scientific consensus on climate change is ...</td>\n",
       "      <td>53</td>\n",
       "      <td>climate</td>\n",
       "      <td>53</td>\n",
       "      <td>https://i.redd.it/x0gmjelle6421.jpg</td>\n",
       "    </tr>\n",
       "    <tr>\n",
       "      <th>2</th>\n",
       "      <td>bbc.com</td>\n",
       "      <td>0</td>\n",
       "      <td>6</td>\n",
       "      <td>Climate change: Failure to tackle warming 'sui...</td>\n",
       "      <td>194</td>\n",
       "      <td>climate</td>\n",
       "      <td>194</td>\n",
       "      <td>https://www.bbc.com/news/science-environment-4...</td>\n",
       "    </tr>\n",
       "    <tr>\n",
       "      <th>3</th>\n",
       "      <td>indianexpress.com</td>\n",
       "      <td>0</td>\n",
       "      <td>1</td>\n",
       "      <td>Indian Ocean may play bigger role in driving c...</td>\n",
       "      <td>8</td>\n",
       "      <td>climate</td>\n",
       "      <td>8</td>\n",
       "      <td>https://indianexpress.com/article/technology/s...</td>\n",
       "    </tr>\n",
       "    <tr>\n",
       "      <th>4</th>\n",
       "      <td>cbsnews.com</td>\n",
       "      <td>0</td>\n",
       "      <td>0</td>\n",
       "      <td>Tariffs cast a shadow on U.S. solar industry</td>\n",
       "      <td>9</td>\n",
       "      <td>climate</td>\n",
       "      <td>9</td>\n",
       "      <td>https://www.cbsnews.com/news/us-solar-industry...</td>\n",
       "    </tr>\n",
       "  </tbody>\n",
       "</table>\n",
       "</div>"
      ],
      "text/plain": [
       "              domain  downs  num_comments  \\\n",
       "0        nytimes.com      0             5   \n",
       "1          i.redd.it      0             3   \n",
       "2            bbc.com      0             6   \n",
       "3  indianexpress.com      0             1   \n",
       "4        cbsnews.com      0             0   \n",
       "\n",
       "                                          post_title  score subreddit  ups  \\\n",
       "0  John Kerry: Forget Trump. We All Must Act on C...     89   climate   89   \n",
       "1  The scientific consensus on climate change is ...     53   climate   53   \n",
       "2  Climate change: Failure to tackle warming 'sui...    194   climate  194   \n",
       "3  Indian Ocean may play bigger role in driving c...      8   climate    8   \n",
       "4       Tariffs cast a shadow on U.S. solar industry      9   climate    9   \n",
       "\n",
       "                                                 url  \n",
       "0  https://www.nytimes.com/2018/12/13/opinion/ker...  \n",
       "1                https://i.redd.it/x0gmjelle6421.jpg  \n",
       "2  https://www.bbc.com/news/science-environment-4...  \n",
       "3  https://indianexpress.com/article/technology/s...  \n",
       "4  https://www.cbsnews.com/news/us-solar-industry...  "
      ]
     },
     "execution_count": 381,
     "metadata": {},
     "output_type": "execute_result"
    }
   ],
   "source": [
    "df.head()"
   ]
  },
  {
   "cell_type": "code",
   "execution_count": 382,
   "metadata": {},
   "outputs": [
    {
     "data": {
      "text/plain": [
       "0    1985\n",
       "Name: downs, dtype: int64"
      ]
     },
     "execution_count": 382,
     "metadata": {},
     "output_type": "execute_result"
    }
   ],
   "source": [
    "df.downs.value_counts()"
   ]
  },
  {
   "cell_type": "code",
   "execution_count": 563,
   "metadata": {},
   "outputs": [],
   "source": [
    "#These columns did not have particularly useful information\n",
    "df.drop(columns=['downs', 'ups'], inplace=True)"
   ]
  },
  {
   "cell_type": "code",
   "execution_count": 391,
   "metadata": {},
   "outputs": [],
   "source": [
    "#again resetting the index after combining dataframes\n",
    "df.reset_index(inplace=True)"
   ]
  },
  {
   "cell_type": "code",
   "execution_count": 393,
   "metadata": {},
   "outputs": [],
   "source": [
    "df.drop(columns='index', inplace=True)"
   ]
  },
  {
   "cell_type": "code",
   "execution_count": 396,
   "metadata": {},
   "outputs": [],
   "source": [
    "#changing column names\n",
    "df.columns = ['domain', 'comments', 'title', 'score', 'subreddit', 'url']"
   ]
  },
  {
   "cell_type": "markdown",
   "metadata": {},
   "source": [
    "## Saving dataframe to a csv - careful not to rewrite!"
   ]
  },
  {
   "cell_type": "code",
   "execution_count": 8,
   "metadata": {},
   "outputs": [],
   "source": [
    "#df.to_csv('./data/project_3_subreddit_data', index=False)"
   ]
  },
  {
   "cell_type": "markdown",
   "metadata": {},
   "source": [
    "## Load in CSV"
   ]
  },
  {
   "cell_type": "code",
   "execution_count": 1,
   "metadata": {},
   "outputs": [
    {
     "ename": "NameError",
     "evalue": "name 'pd' is not defined",
     "output_type": "error",
     "traceback": [
      "\u001b[0;31m---------------------------------------------------------------------------\u001b[0m",
      "\u001b[0;31mNameError\u001b[0m                                 Traceback (most recent call last)",
      "\u001b[0;32m<ipython-input-1-1566ce9225ae>\u001b[0m in \u001b[0;36m<module>\u001b[0;34m\u001b[0m\n\u001b[0;32m----> 1\u001b[0;31m \u001b[0mdf\u001b[0m \u001b[0;34m=\u001b[0m \u001b[0mpd\u001b[0m\u001b[0;34m.\u001b[0m\u001b[0mread_csv\u001b[0m\u001b[0;34m(\u001b[0m\u001b[0;34m'./data/project_3_subreddit_data'\u001b[0m\u001b[0;34m)\u001b[0m\u001b[0;34m\u001b[0m\u001b[0m\n\u001b[0m",
      "\u001b[0;31mNameError\u001b[0m: name 'pd' is not defined"
     ]
    }
   ],
   "source": [
    "df = pd.read_csv('./data/project_3_subreddit_data')"
   ]
  },
  {
   "cell_type": "code",
   "execution_count": 2,
   "metadata": {
    "scrolled": true
   },
   "outputs": [
    {
     "ename": "NameError",
     "evalue": "name 'df' is not defined",
     "output_type": "error",
     "traceback": [
      "\u001b[0;31m---------------------------------------------------------------------------\u001b[0m",
      "\u001b[0;31mNameError\u001b[0m                                 Traceback (most recent call last)",
      "\u001b[0;32m<ipython-input-2-c42a15b2c7cf>\u001b[0m in \u001b[0;36m<module>\u001b[0;34m\u001b[0m\n\u001b[0;32m----> 1\u001b[0;31m \u001b[0mdf\u001b[0m\u001b[0;34m.\u001b[0m\u001b[0mhead\u001b[0m\u001b[0;34m(\u001b[0m\u001b[0;34m)\u001b[0m\u001b[0;34m\u001b[0m\u001b[0m\n\u001b[0m",
      "\u001b[0;31mNameError\u001b[0m: name 'df' is not defined"
     ]
    }
   ],
   "source": [
    "df.head()"
   ]
  },
  {
   "cell_type": "code",
   "execution_count": 131,
   "metadata": {},
   "outputs": [
    {
     "data": {
      "text/plain": [
       "'The scientific consensus on climate change is very clear, and yet some people are still like…'"
      ]
     },
     "execution_count": 131,
     "metadata": {},
     "output_type": "execute_result"
    }
   ],
   "source": [
    "df['title'][1]                #exactly the data I want!"
   ]
  },
  {
   "cell_type": "code",
   "execution_count": 859,
   "metadata": {},
   "outputs": [
    {
     "data": {
      "text/plain": [
       "domain                 object\n",
       "comments                int64\n",
       "title                  object\n",
       "score                   int64\n",
       "subreddit               int64\n",
       "url                    object\n",
       "lemmatized             object\n",
       "stemmed                object\n",
       "avg_word_len          float64\n",
       "title_length            int64\n",
       "lemmatized             object\n",
       "positive_sentiment    float64\n",
       "negative_sentiment    float64\n",
       "neutral_sentiment     float64\n",
       "compound_sentiment    float64\n",
       "dtype: object"
      ]
     },
     "execution_count": 859,
     "metadata": {},
     "output_type": "execute_result"
    }
   ],
   "source": [
    "df.dtypes"
   ]
  },
  {
   "cell_type": "markdown",
   "metadata": {},
   "source": [
    "## Text Preprocessing"
   ]
  },
  {
   "cell_type": "code",
   "execution_count": 782,
   "metadata": {},
   "outputs": [],
   "source": [
    "#first = words/ character groups followed by not space (up until space)\n",
    "#while I didn't exactly use this, the function below allows for separating all the text different depending\n",
    "#on the regular expression used in the function.\n",
    "regular_expressions = ['\\w+[^ ]', '[A-Z]\\w+', \"\\w+[']*[a-z]*\", \"\\w+['.-]*[0-9A-Za-z]+[.]*\", \n",
    "                       '\\s+(, gaps=True)']\n"
   ]
  },
  {
   "cell_type": "code",
   "execution_count": 615,
   "metadata": {},
   "outputs": [],
   "source": [
    "def preprocessed_columns(dataframe = df, \n",
    "                        column = 'title', \n",
    "                        new_lemma_column = 'lemmatized', \n",
    "                        new_stem_column = 'stemmed',\n",
    "                        new_avg_len_column = 'avg_word_len',\n",
    "                        regular_expression = r'\\w+'): \n",
    "    \n",
    "    tokenizer = RegexpTokenizer(regular_expression)      #Instantiate tokenizer with specific regular expression\n",
    "    lemmatizer = WordNetLemmatizer()                     #Instantiate lemmatizer\n",
    "    stemmer = PorterStemmer()                            #Instantiate stemmer\n",
    "    \n",
    "    lemmatized = []                                      #list to append lemmatized data\n",
    "    stemmed = []                                         #list to append stemmed words\n",
    "    \n",
    "    sid = SentimentIntensityAnalyzer()                   #Instantiating Sentiment Intensity Analyzer\n",
    "    negative_list = []                                   #These lists will be appended below with the analyzer's\n",
    "    positive_list = []                                   #sentiment calculations for each post title and then used\n",
    "    neutral_list = []                                    #to create new columns/variables in the dataframe\n",
    "    compound_list = []\n",
    "    \n",
    "    for i in dataframe[column]:                          #Iterate through all the rows in specific column\n",
    "\n",
    "        tokens = tokenizer.tokenize(i.lower())           #Converting string titles to tokens \n",
    "\n",
    "        lemma = [lemmatizer.lemmatize(token) for token in tokens]     #lemmatizing all tokens\n",
    "        lemmatized.append(lemma)                                      #appending lemma to lemmatized list\n",
    "\n",
    "        stems = [stemmer.stem(token) for token in tokens]             #stemming all tokens\n",
    "        stemmed.append(stems)                                         #creating stem list\n",
    "     \n",
    "        #Sentiment analysis - this creates columns with information on negative, positive, neutral\n",
    "        #and compound (i.e. overall) sentiment.\n",
    "\n",
    "        ss = sid.polarity_scores(i)\n",
    "        negative_list.append(ss['neg'])\n",
    "        neutral_list.append(ss['neu'])\n",
    "        positive_list.append(ss['pos'])\n",
    "        compound_list.append(ss['compound'])\n",
    "\n",
    "    avg_len_list = []                                       \n",
    "    title_length_list = []\n",
    "    for title in lemmatized:                \n",
    "        title_length = 0                   \n",
    "        count = 0\n",
    "        for word in title:\n",
    "            title_length += 1                   #Creating a feature for number of words per post\n",
    "            count += len(word)                  #Creating a feature for average word length for each post\n",
    "\n",
    "        avg_len = (count/len(title))\n",
    "        avg_len_list.append(avg_len)\n",
    "        title_length_list.append(title_length)\n",
    "        \n",
    "    dataframe[new_lemma_column] = [' '.join(i) for i in lemmatized]   #rejoing the lists for each title\n",
    "    dataframe[new_stem_column] = [' '.join(i) for i in stemmed]       #setting results to be new columns in df   \n",
    "    \n",
    "    dataframe[new_avg_len_column] = avg_len_list\n",
    "    dataframe['title_length'] = title_length_list\n",
    "    \n",
    "    dataframe['positive_sentiment'] = positive_list\n",
    "    dataframe['negative_sentiment'] = negative_list\n",
    "    dataframe['neutral_sentiment'] = neutral_list\n",
    "    dataframe['compound_sentiment'] = compound_list"
   ]
  },
  {
   "cell_type": "markdown",
   "metadata": {},
   "source": [
    "**_Calling the function to preprocess the text and create some numeric features_**"
   ]
  },
  {
   "cell_type": "code",
   "execution_count": 616,
   "metadata": {},
   "outputs": [],
   "source": [
    "preprocessed_columns(dataframe=df, column='title', regular_expression=r'\\w+', new_lemma_column='lemmatized', \n",
    "                    new_stem_column='stemmed', new_avg_len_column= 'avg_word_len')"
   ]
  },
  {
   "cell_type": "code",
   "execution_count": 617,
   "metadata": {
    "scrolled": false
   },
   "outputs": [
    {
     "data": {
      "text/html": [
       "<div>\n",
       "<style scoped>\n",
       "    .dataframe tbody tr th:only-of-type {\n",
       "        vertical-align: middle;\n",
       "    }\n",
       "\n",
       "    .dataframe tbody tr th {\n",
       "        vertical-align: top;\n",
       "    }\n",
       "\n",
       "    .dataframe thead th {\n",
       "        text-align: right;\n",
       "    }\n",
       "</style>\n",
       "<table border=\"1\" class=\"dataframe\">\n",
       "  <thead>\n",
       "    <tr style=\"text-align: right;\">\n",
       "      <th></th>\n",
       "      <th>domain</th>\n",
       "      <th>comments</th>\n",
       "      <th>title</th>\n",
       "      <th>score</th>\n",
       "      <th>subreddit</th>\n",
       "      <th>url</th>\n",
       "      <th>lemmatized</th>\n",
       "      <th>stemmed</th>\n",
       "      <th>avg_word_len</th>\n",
       "      <th>title_length</th>\n",
       "      <th>lemmatized</th>\n",
       "      <th>positive_sentiment</th>\n",
       "      <th>negative_sentiment</th>\n",
       "      <th>neutral_sentiment</th>\n",
       "      <th>compound_sentiment</th>\n",
       "    </tr>\n",
       "  </thead>\n",
       "  <tbody>\n",
       "    <tr>\n",
       "      <th>0</th>\n",
       "      <td>nytimes.com</td>\n",
       "      <td>5</td>\n",
       "      <td>John Kerry: Forget Trump. We All Must Act on C...</td>\n",
       "      <td>89</td>\n",
       "      <td>0</td>\n",
       "      <td>https://www.nytimes.com/2018/12/13/opinion/ker...</td>\n",
       "      <td>john kerry forget trump we all must act on cli...</td>\n",
       "      <td>john kerri forget trump we all must act on cli...</td>\n",
       "      <td>4.272727</td>\n",
       "      <td>11</td>\n",
       "      <td>john kerry forget trump we all must act on cli...</td>\n",
       "      <td>0.000</td>\n",
       "      <td>0.160</td>\n",
       "      <td>0.840</td>\n",
       "      <td>-0.2263</td>\n",
       "    </tr>\n",
       "    <tr>\n",
       "      <th>1</th>\n",
       "      <td>i.redd.it</td>\n",
       "      <td>3</td>\n",
       "      <td>The scientific consensus on climate change is ...</td>\n",
       "      <td>53</td>\n",
       "      <td>0</td>\n",
       "      <td>https://i.redd.it/x0gmjelle6421.jpg</td>\n",
       "      <td>the scientific consensus on climate change is ...</td>\n",
       "      <td>the scientif consensu on climat chang is veri ...</td>\n",
       "      <td>4.750000</td>\n",
       "      <td>16</td>\n",
       "      <td>the scientific consensus on climate change is ...</td>\n",
       "      <td>0.162</td>\n",
       "      <td>0.000</td>\n",
       "      <td>0.838</td>\n",
       "      <td>0.4391</td>\n",
       "    </tr>\n",
       "    <tr>\n",
       "      <th>2</th>\n",
       "      <td>bbc.com</td>\n",
       "      <td>6</td>\n",
       "      <td>Climate change: Failure to tackle warming 'sui...</td>\n",
       "      <td>194</td>\n",
       "      <td>0</td>\n",
       "      <td>https://www.bbc.com/news/science-environment-4...</td>\n",
       "      <td>climate change failure to tackle warming suici...</td>\n",
       "      <td>climat chang failur to tackl warm suicid the u...</td>\n",
       "      <td>5.083333</td>\n",
       "      <td>36</td>\n",
       "      <td>climate change failure to tackle warming suici...</td>\n",
       "      <td>0.107</td>\n",
       "      <td>0.276</td>\n",
       "      <td>0.617</td>\n",
       "      <td>-0.8559</td>\n",
       "    </tr>\n",
       "    <tr>\n",
       "      <th>3</th>\n",
       "      <td>indianexpress.com</td>\n",
       "      <td>1</td>\n",
       "      <td>Indian Ocean may play bigger role in driving c...</td>\n",
       "      <td>8</td>\n",
       "      <td>0</td>\n",
       "      <td>https://indianexpress.com/article/technology/s...</td>\n",
       "      <td>indian ocean may play bigger role in driving c...</td>\n",
       "      <td>indian ocean may play bigger role in drive cli...</td>\n",
       "      <td>5.000000</td>\n",
       "      <td>10</td>\n",
       "      <td>indian ocean may play bigger role in driving c...</td>\n",
       "      <td>0.211</td>\n",
       "      <td>0.000</td>\n",
       "      <td>0.789</td>\n",
       "      <td>0.3400</td>\n",
       "    </tr>\n",
       "    <tr>\n",
       "      <th>4</th>\n",
       "      <td>cbsnews.com</td>\n",
       "      <td>0</td>\n",
       "      <td>Tariffs cast a shadow on U.S. solar industry</td>\n",
       "      <td>9</td>\n",
       "      <td>0</td>\n",
       "      <td>https://www.cbsnews.com/news/us-solar-industry...</td>\n",
       "      <td>tariff cast a shadow on u s solar industry</td>\n",
       "      <td>tariff cast a shadow on u s solar industri</td>\n",
       "      <td>3.777778</td>\n",
       "      <td>9</td>\n",
       "      <td>tariff cast a shadow on u s solar industry</td>\n",
       "      <td>0.000</td>\n",
       "      <td>0.000</td>\n",
       "      <td>1.000</td>\n",
       "      <td>0.0000</td>\n",
       "    </tr>\n",
       "  </tbody>\n",
       "</table>\n",
       "</div>"
      ],
      "text/plain": [
       "              domain  comments  \\\n",
       "0        nytimes.com         5   \n",
       "1          i.redd.it         3   \n",
       "2            bbc.com         6   \n",
       "3  indianexpress.com         1   \n",
       "4        cbsnews.com         0   \n",
       "\n",
       "                                               title  score  subreddit  \\\n",
       "0  John Kerry: Forget Trump. We All Must Act on C...     89          0   \n",
       "1  The scientific consensus on climate change is ...     53          0   \n",
       "2  Climate change: Failure to tackle warming 'sui...    194          0   \n",
       "3  Indian Ocean may play bigger role in driving c...      8          0   \n",
       "4       Tariffs cast a shadow on U.S. solar industry      9          0   \n",
       "\n",
       "                                                 url  \\\n",
       "0  https://www.nytimes.com/2018/12/13/opinion/ker...   \n",
       "1                https://i.redd.it/x0gmjelle6421.jpg   \n",
       "2  https://www.bbc.com/news/science-environment-4...   \n",
       "3  https://indianexpress.com/article/technology/s...   \n",
       "4  https://www.cbsnews.com/news/us-solar-industry...   \n",
       "\n",
       "                                         lemmatized   \\\n",
       "0  john kerry forget trump we all must act on cli...   \n",
       "1  the scientific consensus on climate change is ...   \n",
       "2  climate change failure to tackle warming suici...   \n",
       "3  indian ocean may play bigger role in driving c...   \n",
       "4         tariff cast a shadow on u s solar industry   \n",
       "\n",
       "                                             stemmed  avg_word_len  \\\n",
       "0  john kerri forget trump we all must act on cli...      4.272727   \n",
       "1  the scientif consensu on climat chang is veri ...      4.750000   \n",
       "2  climat chang failur to tackl warm suicid the u...      5.083333   \n",
       "3  indian ocean may play bigger role in drive cli...      5.000000   \n",
       "4         tariff cast a shadow on u s solar industri      3.777778   \n",
       "\n",
       "   title_length                                         lemmatized  \\\n",
       "0            11  john kerry forget trump we all must act on cli...   \n",
       "1            16  the scientific consensus on climate change is ...   \n",
       "2            36  climate change failure to tackle warming suici...   \n",
       "3            10  indian ocean may play bigger role in driving c...   \n",
       "4             9         tariff cast a shadow on u s solar industry   \n",
       "\n",
       "   positive_sentiment  negative_sentiment  neutral_sentiment  \\\n",
       "0               0.000               0.160              0.840   \n",
       "1               0.162               0.000              0.838   \n",
       "2               0.107               0.276              0.617   \n",
       "3               0.211               0.000              0.789   \n",
       "4               0.000               0.000              1.000   \n",
       "\n",
       "   compound_sentiment  \n",
       "0             -0.2263  \n",
       "1              0.4391  \n",
       "2             -0.8559  \n",
       "3              0.3400  \n",
       "4              0.0000  "
      ]
     },
     "execution_count": 617,
     "metadata": {},
     "output_type": "execute_result"
    }
   ],
   "source": [
    "df.head()"
   ]
  },
  {
   "cell_type": "markdown",
   "metadata": {},
   "source": [
    "## Some EDA"
   ]
  },
  {
   "cell_type": "code",
   "execution_count": 88,
   "metadata": {},
   "outputs": [
    {
     "data": {
      "image/png": "[encoded data removed]",
      "text/plain": [
       "<Figure size 432x288 with 1 Axes>"
      ]
     },
     "metadata": {
      "needs_background": "light"
     },
     "output_type": "display_data"
    }
   ],
   "source": [
    "ax = sns.boxplot(x=df['subreddit'], y=df['length_post'])\n",
    "ax = sns.swarmplot(x=df['subreddit'], y=df['length_post'])"
   ]
  },
  {
   "cell_type": "code",
   "execution_count": 150,
   "metadata": {
    "scrolled": false
   },
   "outputs": [
    {
     "data": {
      "text/plain": [
       "climate            994\n",
       "climateskeptics    991\n",
       "Name: subreddit, dtype: int64"
      ]
     },
     "execution_count": 150,
     "metadata": {},
     "output_type": "execute_result"
    }
   ],
   "source": [
    "df['subreddit'].value_counts()"
   ]
  },
  {
   "cell_type": "code",
   "execution_count": 797,
   "metadata": {},
   "outputs": [
    {
     "data": {
      "text/plain": [
       "<BarContainer object of 1985 artists>"
      ]
     },
     "execution_count": 797,
     "metadata": {},
     "output_type": "execute_result"
    },
    {
     "data": {
      "image/png": "[encoded data removed]",
      "text/plain": [
       "<Figure size 432x288 with 1 Axes>"
      ]
     },
     "metadata": {
      "needs_background": "light"
     },
     "output_type": "display_data"
    }
   ],
   "source": [
    "plt.bar(x=df['subreddit'], height=df['title_length'])"
   ]
  },
  {
   "cell_type": "code",
   "execution_count": 872,
   "metadata": {},
   "outputs": [
    {
     "data": {
      "text/plain": [
       "subreddit             1.000000\n",
       "comments              0.204698\n",
       "negative_sentiment    0.110934\n",
       "avg_word_len          0.016260\n",
       "positive_sentiment   -0.050364\n",
       "neutral_sentiment    -0.056250\n",
       "score                -0.071983\n",
       "compound_sentiment   -0.090405\n",
       "title_length         -0.149237\n",
       "Name: subreddit, dtype: float64"
      ]
     },
     "execution_count": 872,
     "metadata": {},
     "output_type": "execute_result"
    }
   ],
   "source": [
    "df.corr()['subreddit'].sort_values(ascending=False)"
   ]
  },
  {
   "cell_type": "code",
   "execution_count": 900,
   "metadata": {
    "scrolled": false
   },
   "outputs": [
    {
     "data": {
      "image/png": "[encoded data removed]",
      "text/plain": [
       "<Figure size 576x576 with 1 Axes>"
      ]
     },
     "metadata": {
      "needs_background": "light"
     },
     "output_type": "display_data"
    }
   ],
   "source": [
    "plt.figure(figsize=(8,8))\n",
    "plt.title(\"Boxplot of Number Comments - Climate and Climate-Skeptics\")\n",
    "ax = sns.boxplot(x=df['subreddit'], y=df[df['comments'] <= 20]['comments'], whis=1)\n",
    "ax.set_xlabel(\"Subreddit - Climate (0), Climate Skeptics (1)\")\n",
    "ax.set_ylabel(\"Number of Comments\");"
   ]
  },
  {
   "cell_type": "code",
   "execution_count": 874,
   "metadata": {},
   "outputs": [
    {
     "data": {
      "text/plain": [
       "<matplotlib.axes._subplots.AxesSubplot at 0x1a4d8a98d0>"
      ]
     },
     "execution_count": 874,
     "metadata": {},
     "output_type": "execute_result"
    },
    {
     "data": {
      "image/png": "[encoded data removed]",
      "text/plain": [
       "<Figure size 432x288 with 1 Axes>"
      ]
     },
     "metadata": {
      "needs_background": "light"
     },
     "output_type": "display_data"
    }
   ],
   "source": [
    "sns.boxplot(x=df['subreddit'], y=df['negative_sentiment'], )"
   ]
  },
  {
   "cell_type": "code",
   "execution_count": 875,
   "metadata": {},
   "outputs": [
    {
     "data": {
      "text/plain": [
       "<matplotlib.axes._subplots.AxesSubplot at 0x1a4d4b74a8>"
      ]
     },
     "execution_count": 875,
     "metadata": {},
     "output_type": "execute_result"
    },
    {
     "data": {
      "image/png": "[encoded data removed]",
      "text/plain": [
       "<Figure size 432x288 with 1 Axes>"
      ]
     },
     "metadata": {
      "needs_background": "light"
     },
     "output_type": "display_data"
    }
   ],
   "source": [
    "sns.boxplot(x=df['subreddit'], y=df['title_length'])"
   ]
  },
  {
   "cell_type": "markdown",
   "metadata": {},
   "source": [
    "## Changing the values of Climate and Climate Skeptics to Binary"
   ]
  },
  {
   "cell_type": "code",
   "execution_count": 151,
   "metadata": {},
   "outputs": [],
   "source": [
    "df['subreddit'] = df['subreddit'].replace(['climate', 'climateskeptics'], [0, 1])"
   ]
  },
  {
   "cell_type": "code",
   "execution_count": 564,
   "metadata": {},
   "outputs": [
    {
     "data": {
      "text/plain": [
       "0    994\n",
       "1    991\n",
       "Name: subreddit, dtype: int64"
      ]
     },
     "execution_count": 564,
     "metadata": {},
     "output_type": "execute_result"
    }
   ],
   "source": [
    "# Climate = 0, Skeptics = 1\n",
    "df['subreddit'].value_counts()"
   ]
  },
  {
   "cell_type": "markdown",
   "metadata": {},
   "source": [
    "# MODELING"
   ]
  },
  {
   "cell_type": "markdown",
   "metadata": {},
   "source": [
    "### BASELINE PREDICTION:  50.08 %"
   ]
  },
  {
   "cell_type": "code",
   "execution_count": 156,
   "metadata": {
    "scrolled": false
   },
   "outputs": [
    {
     "data": {
      "text/plain": [
       "0    0.500756\n",
       "1    0.499244\n",
       "Name: subreddit, dtype: float64"
      ]
     },
     "execution_count": 156,
     "metadata": {},
     "output_type": "execute_result"
    }
   ],
   "source": [
    "df.subreddit.value_counts(normalize=True)"
   ]
  },
  {
   "cell_type": "markdown",
   "metadata": {},
   "source": [
    "####  This function will be used repeatedly for all the iterations of vectorizer and model testing "
   ]
  },
  {
   "cell_type": "code",
   "execution_count": 590,
   "metadata": {},
   "outputs": [],
   "source": [
    "def text_to_model(X_column, model, vectorizer, params):\n",
    "    \n",
    "    X = df[X_column]                                    #creates X and y\n",
    "    y = df['subreddit']\n",
    "    \n",
    "    X_train, X_test, y_train, y_test = train_test_split(X, y, random_state=42)    #train test split\n",
    "    \n",
    "    pipe = Pipeline([                               #pipeline to run with gridsearch and test hyperparameters\n",
    "        ('vectorizer', vectorizer),                 #for both the model and vectorizer.\n",
    "        ('model', model)])                          #this will be done for many vectorizer-model combinations\n",
    "        \n",
    "    grid = GridSearchCV(pipe, param_grid=params, cv=5, verbose=1)  \n",
    "    \n",
    "    grid.fit(X_train, y_train)                       #fitting the grid model to X_train and y_train and \n",
    "                                                     #running a 5 fold cross validation\n",
    "    score_dict = {}\n",
    "    \n",
    "    score_dict['X'] = X_column                               #this dict will be converted to dataframe to store \n",
    "    score_dict['Vectorizer'] = vectorizer                    #the performance of each gridsearch and return the \n",
    "    score_dict['Model'] = model                              #best parameters and score to compare to other models\n",
    "    score_dict['train_score'] = grid.score(X_train, y_train)\n",
    "    score_dict['test_score'] = grid.score(X_test, y_test)\n",
    "    score_dict['best_params'] = grid.best_params_\n",
    "    \n",
    "    try:\n",
    "        return pd.DataFrame(score_dict)\n",
    "    except:\n",
    "        return score_dict"
   ]
  },
  {
   "cell_type": "markdown",
   "metadata": {},
   "source": [
    "### KNearestNeighbors and Count Vectorizer\n",
    "#### Accuracy = 0.637"
   ]
  },
  {
   "cell_type": "code",
   "execution_count": 533,
   "metadata": {},
   "outputs": [
    {
     "name": "stdout",
     "output_type": "stream",
     "text": [
      "Fitting 5 folds for each of 10 candidates, totalling 50 fits\n"
     ]
    },
    {
     "name": "stderr",
     "output_type": "stream",
     "text": [
      "[Parallel(n_jobs=1)]: Using backend SequentialBackend with 1 concurrent workers.\n",
      "[Parallel(n_jobs=1)]: Done  50 out of  50 | elapsed:   27.7s finished\n"
     ]
    },
    {
     "data": {
      "text/html": [
       "<div>\n",
       "<style scoped>\n",
       "    .dataframe tbody tr th:only-of-type {\n",
       "        vertical-align: middle;\n",
       "    }\n",
       "\n",
       "    .dataframe tbody tr th {\n",
       "        vertical-align: top;\n",
       "    }\n",
       "\n",
       "    .dataframe thead th {\n",
       "        text-align: right;\n",
       "    }\n",
       "</style>\n",
       "<table border=\"1\" class=\"dataframe\">\n",
       "  <thead>\n",
       "    <tr style=\"text-align: right;\">\n",
       "      <th></th>\n",
       "      <th>X</th>\n",
       "      <th>Vectorizer</th>\n",
       "      <th>Model</th>\n",
       "      <th>train_score</th>\n",
       "      <th>test_score</th>\n",
       "      <th>best_params</th>\n",
       "    </tr>\n",
       "  </thead>\n",
       "  <tbody>\n",
       "    <tr>\n",
       "      <th>model__n_neighbors</th>\n",
       "      <td>title</td>\n",
       "      <td>CountVectorizer(analyzer='word', binary=False,...</td>\n",
       "      <td>KNeighborsClassifier(algorithm='auto', leaf_si...</td>\n",
       "      <td>1.0</td>\n",
       "      <td>0.637827</td>\n",
       "      <td>1</td>\n",
       "    </tr>\n",
       "    <tr>\n",
       "      <th>model__p</th>\n",
       "      <td>title</td>\n",
       "      <td>CountVectorizer(analyzer='word', binary=False,...</td>\n",
       "      <td>KNeighborsClassifier(algorithm='auto', leaf_si...</td>\n",
       "      <td>1.0</td>\n",
       "      <td>0.637827</td>\n",
       "      <td>1</td>\n",
       "    </tr>\n",
       "    <tr>\n",
       "      <th>vectorizer__max_df</th>\n",
       "      <td>title</td>\n",
       "      <td>CountVectorizer(analyzer='word', binary=False,...</td>\n",
       "      <td>KNeighborsClassifier(algorithm='auto', leaf_si...</td>\n",
       "      <td>1.0</td>\n",
       "      <td>0.637827</td>\n",
       "      <td>1</td>\n",
       "    </tr>\n",
       "    <tr>\n",
       "      <th>vectorizer__max_features</th>\n",
       "      <td>title</td>\n",
       "      <td>CountVectorizer(analyzer='word', binary=False,...</td>\n",
       "      <td>KNeighborsClassifier(algorithm='auto', leaf_si...</td>\n",
       "      <td>1.0</td>\n",
       "      <td>0.637827</td>\n",
       "      <td>4000</td>\n",
       "    </tr>\n",
       "    <tr>\n",
       "      <th>vectorizer__min_df</th>\n",
       "      <td>title</td>\n",
       "      <td>CountVectorizer(analyzer='word', binary=False,...</td>\n",
       "      <td>KNeighborsClassifier(algorithm='auto', leaf_si...</td>\n",
       "      <td>1.0</td>\n",
       "      <td>0.637827</td>\n",
       "      <td>1</td>\n",
       "    </tr>\n",
       "    <tr>\n",
       "      <th>vectorizer__ngram_range</th>\n",
       "      <td>title</td>\n",
       "      <td>CountVectorizer(analyzer='word', binary=False,...</td>\n",
       "      <td>KNeighborsClassifier(algorithm='auto', leaf_si...</td>\n",
       "      <td>1.0</td>\n",
       "      <td>0.637827</td>\n",
       "      <td>(1, 1)</td>\n",
       "    </tr>\n",
       "    <tr>\n",
       "      <th>vectorizer__stop_words</th>\n",
       "      <td>title</td>\n",
       "      <td>CountVectorizer(analyzer='word', binary=False,...</td>\n",
       "      <td>KNeighborsClassifier(algorithm='auto', leaf_si...</td>\n",
       "      <td>1.0</td>\n",
       "      <td>0.637827</td>\n",
       "      <td>english</td>\n",
       "    </tr>\n",
       "  </tbody>\n",
       "</table>\n",
       "</div>"
      ],
      "text/plain": [
       "                              X  \\\n",
       "model__n_neighbors        title   \n",
       "model__p                  title   \n",
       "vectorizer__max_df        title   \n",
       "vectorizer__max_features  title   \n",
       "vectorizer__min_df        title   \n",
       "vectorizer__ngram_range   title   \n",
       "vectorizer__stop_words    title   \n",
       "\n",
       "                                                                 Vectorizer  \\\n",
       "model__n_neighbors        CountVectorizer(analyzer='word', binary=False,...   \n",
       "model__p                  CountVectorizer(analyzer='word', binary=False,...   \n",
       "vectorizer__max_df        CountVectorizer(analyzer='word', binary=False,...   \n",
       "vectorizer__max_features  CountVectorizer(analyzer='word', binary=False,...   \n",
       "vectorizer__min_df        CountVectorizer(analyzer='word', binary=False,...   \n",
       "vectorizer__ngram_range   CountVectorizer(analyzer='word', binary=False,...   \n",
       "vectorizer__stop_words    CountVectorizer(analyzer='word', binary=False,...   \n",
       "\n",
       "                                                                      Model  \\\n",
       "model__n_neighbors        KNeighborsClassifier(algorithm='auto', leaf_si...   \n",
       "model__p                  KNeighborsClassifier(algorithm='auto', leaf_si...   \n",
       "vectorizer__max_df        KNeighborsClassifier(algorithm='auto', leaf_si...   \n",
       "vectorizer__max_features  KNeighborsClassifier(algorithm='auto', leaf_si...   \n",
       "vectorizer__min_df        KNeighborsClassifier(algorithm='auto', leaf_si...   \n",
       "vectorizer__ngram_range   KNeighborsClassifier(algorithm='auto', leaf_si...   \n",
       "vectorizer__stop_words    KNeighborsClassifier(algorithm='auto', leaf_si...   \n",
       "\n",
       "                          train_score  test_score best_params  \n",
       "model__n_neighbors                1.0    0.637827           1  \n",
       "model__p                          1.0    0.637827           1  \n",
       "vectorizer__max_df                1.0    0.637827           1  \n",
       "vectorizer__max_features          1.0    0.637827        4000  \n",
       "vectorizer__min_df                1.0    0.637827           1  \n",
       "vectorizer__ngram_range           1.0    0.637827      (1, 1)  \n",
       "vectorizer__stop_words            1.0    0.637827     english  "
      ]
     },
     "execution_count": 533,
     "metadata": {},
     "output_type": "execute_result"
    }
   ],
   "source": [
    "knn = KNeighborsClassifier()\n",
    "cv = CountVectorizer()\n",
    "\n",
    "params = {'vectorizer__stop_words': ['english'],\n",
    "          'vectorizer__max_features':[4000],\n",
    "          'vectorizer__ngram_range':[(1,1)],\n",
    "          'vectorizer__min_df':[1],\n",
    "          'vectorizer__max_df':[1.0],\n",
    "          'model__n_neighbors':[1, 5, 10, 20, 50],\n",
    "          'model__p':[1,2]\n",
    "         }\n",
    "\n",
    "count_vect_knn = text_to_model(X_column='title', model = knn, vectorizer=cv, params=params)\n",
    "count_vect_knn"
   ]
  },
  {
   "cell_type": "markdown",
   "metadata": {},
   "source": [
    "### KNearestNeighbors and TF-IDF Vectorizer\n",
    "#### Accuracy = 0.646"
   ]
  },
  {
   "cell_type": "code",
   "execution_count": 535,
   "metadata": {
    "scrolled": true
   },
   "outputs": [
    {
     "name": "stdout",
     "output_type": "stream",
     "text": [
      "Fitting 5 folds for each of 8 candidates, totalling 40 fits\n"
     ]
    },
    {
     "name": "stderr",
     "output_type": "stream",
     "text": [
      "[Parallel(n_jobs=1)]: Using backend SequentialBackend with 1 concurrent workers.\n",
      "[Parallel(n_jobs=1)]: Done  40 out of  40 | elapsed:   46.9s finished\n"
     ]
    },
    {
     "data": {
      "text/html": [
       "<div>\n",
       "<style scoped>\n",
       "    .dataframe tbody tr th:only-of-type {\n",
       "        vertical-align: middle;\n",
       "    }\n",
       "\n",
       "    .dataframe tbody tr th {\n",
       "        vertical-align: top;\n",
       "    }\n",
       "\n",
       "    .dataframe thead th {\n",
       "        text-align: right;\n",
       "    }\n",
       "</style>\n",
       "<table border=\"1\" class=\"dataframe\">\n",
       "  <thead>\n",
       "    <tr style=\"text-align: right;\">\n",
       "      <th></th>\n",
       "      <th>X</th>\n",
       "      <th>Vectorizer</th>\n",
       "      <th>Model</th>\n",
       "      <th>train_score</th>\n",
       "      <th>test_score</th>\n",
       "      <th>best_params</th>\n",
       "    </tr>\n",
       "  </thead>\n",
       "  <tbody>\n",
       "    <tr>\n",
       "      <th>model__n_neighbors</th>\n",
       "      <td>title</td>\n",
       "      <td>TfidfVectorizer(analyzer='word', binary=False,...</td>\n",
       "      <td>KNeighborsClassifier(algorithm='auto', leaf_si...</td>\n",
       "      <td>1.0</td>\n",
       "      <td>0.645875</td>\n",
       "      <td>1</td>\n",
       "    </tr>\n",
       "    <tr>\n",
       "      <th>model__p</th>\n",
       "      <td>title</td>\n",
       "      <td>TfidfVectorizer(analyzer='word', binary=False,...</td>\n",
       "      <td>KNeighborsClassifier(algorithm='auto', leaf_si...</td>\n",
       "      <td>1.0</td>\n",
       "      <td>0.645875</td>\n",
       "      <td>1</td>\n",
       "    </tr>\n",
       "    <tr>\n",
       "      <th>vectorizer__max_df</th>\n",
       "      <td>title</td>\n",
       "      <td>TfidfVectorizer(analyzer='word', binary=False,...</td>\n",
       "      <td>KNeighborsClassifier(algorithm='auto', leaf_si...</td>\n",
       "      <td>1.0</td>\n",
       "      <td>0.645875</td>\n",
       "      <td>1</td>\n",
       "    </tr>\n",
       "    <tr>\n",
       "      <th>vectorizer__max_features</th>\n",
       "      <td>title</td>\n",
       "      <td>TfidfVectorizer(analyzer='word', binary=False,...</td>\n",
       "      <td>KNeighborsClassifier(algorithm='auto', leaf_si...</td>\n",
       "      <td>1.0</td>\n",
       "      <td>0.645875</td>\n",
       "      <td>4000</td>\n",
       "    </tr>\n",
       "    <tr>\n",
       "      <th>vectorizer__min_df</th>\n",
       "      <td>title</td>\n",
       "      <td>TfidfVectorizer(analyzer='word', binary=False,...</td>\n",
       "      <td>KNeighborsClassifier(algorithm='auto', leaf_si...</td>\n",
       "      <td>1.0</td>\n",
       "      <td>0.645875</td>\n",
       "      <td>1</td>\n",
       "    </tr>\n",
       "    <tr>\n",
       "      <th>vectorizer__ngram_range</th>\n",
       "      <td>title</td>\n",
       "      <td>TfidfVectorizer(analyzer='word', binary=False,...</td>\n",
       "      <td>KNeighborsClassifier(algorithm='auto', leaf_si...</td>\n",
       "      <td>1.0</td>\n",
       "      <td>0.645875</td>\n",
       "      <td>(1, 1)</td>\n",
       "    </tr>\n",
       "    <tr>\n",
       "      <th>vectorizer__stop_words</th>\n",
       "      <td>title</td>\n",
       "      <td>TfidfVectorizer(analyzer='word', binary=False,...</td>\n",
       "      <td>KNeighborsClassifier(algorithm='auto', leaf_si...</td>\n",
       "      <td>1.0</td>\n",
       "      <td>0.645875</td>\n",
       "      <td>english</td>\n",
       "    </tr>\n",
       "  </tbody>\n",
       "</table>\n",
       "</div>"
      ],
      "text/plain": [
       "                              X  \\\n",
       "model__n_neighbors        title   \n",
       "model__p                  title   \n",
       "vectorizer__max_df        title   \n",
       "vectorizer__max_features  title   \n",
       "vectorizer__min_df        title   \n",
       "vectorizer__ngram_range   title   \n",
       "vectorizer__stop_words    title   \n",
       "\n",
       "                                                                 Vectorizer  \\\n",
       "model__n_neighbors        TfidfVectorizer(analyzer='word', binary=False,...   \n",
       "model__p                  TfidfVectorizer(analyzer='word', binary=False,...   \n",
       "vectorizer__max_df        TfidfVectorizer(analyzer='word', binary=False,...   \n",
       "vectorizer__max_features  TfidfVectorizer(analyzer='word', binary=False,...   \n",
       "vectorizer__min_df        TfidfVectorizer(analyzer='word', binary=False,...   \n",
       "vectorizer__ngram_range   TfidfVectorizer(analyzer='word', binary=False,...   \n",
       "vectorizer__stop_words    TfidfVectorizer(analyzer='word', binary=False,...   \n",
       "\n",
       "                                                                      Model  \\\n",
       "model__n_neighbors        KNeighborsClassifier(algorithm='auto', leaf_si...   \n",
       "model__p                  KNeighborsClassifier(algorithm='auto', leaf_si...   \n",
       "vectorizer__max_df        KNeighborsClassifier(algorithm='auto', leaf_si...   \n",
       "vectorizer__max_features  KNeighborsClassifier(algorithm='auto', leaf_si...   \n",
       "vectorizer__min_df        KNeighborsClassifier(algorithm='auto', leaf_si...   \n",
       "vectorizer__ngram_range   KNeighborsClassifier(algorithm='auto', leaf_si...   \n",
       "vectorizer__stop_words    KNeighborsClassifier(algorithm='auto', leaf_si...   \n",
       "\n",
       "                          train_score  test_score best_params  \n",
       "model__n_neighbors                1.0    0.645875           1  \n",
       "model__p                          1.0    0.645875           1  \n",
       "vectorizer__max_df                1.0    0.645875           1  \n",
       "vectorizer__max_features          1.0    0.645875        4000  \n",
       "vectorizer__min_df                1.0    0.645875           1  \n",
       "vectorizer__ngram_range           1.0    0.645875      (1, 1)  \n",
       "vectorizer__stop_words            1.0    0.645875     english  "
      ]
     },
     "execution_count": 535,
     "metadata": {},
     "output_type": "execute_result"
    }
   ],
   "source": [
    "knn = KNeighborsClassifier()\n",
    "tfidf = TfidfVectorizer()\n",
    "\n",
    "params = {'vectorizer__stop_words': ['english', None],\n",
    "          'vectorizer__max_features':[4000, None],\n",
    "          'vectorizer__ngram_range':[(1,1)],\n",
    "          'vectorizer__min_df':[1],\n",
    "          'vectorizer__max_df':[1.0],\n",
    "          'model__n_neighbors':[1, 5],\n",
    "          'model__p':[1]\n",
    "         }\n",
    "\n",
    "tfidf_knn = text_to_model(X_column='title', model = knn, vectorizer=tfidf, params=params)\n",
    "tfidf_knn"
   ]
  },
  {
   "cell_type": "markdown",
   "metadata": {},
   "source": [
    "### Testing Multinomial Naive Bayes Model with TF-IDF Vectorizer\n",
    "#### Accuracy = 0.73"
   ]
  },
  {
   "cell_type": "code",
   "execution_count": 550,
   "metadata": {},
   "outputs": [
    {
     "name": "stdout",
     "output_type": "stream",
     "text": [
      "Fitting 5 folds for each of 1 candidates, totalling 5 fits\n"
     ]
    },
    {
     "name": "stderr",
     "output_type": "stream",
     "text": [
      "[Parallel(n_jobs=1)]: Using backend SequentialBackend with 1 concurrent workers.\n",
      "[Parallel(n_jobs=1)]: Done   5 out of   5 | elapsed:    0.2s finished\n"
     ]
    },
    {
     "data": {
      "text/html": [
       "<div>\n",
       "<style scoped>\n",
       "    .dataframe tbody tr th:only-of-type {\n",
       "        vertical-align: middle;\n",
       "    }\n",
       "\n",
       "    .dataframe tbody tr th {\n",
       "        vertical-align: top;\n",
       "    }\n",
       "\n",
       "    .dataframe thead th {\n",
       "        text-align: right;\n",
       "    }\n",
       "</style>\n",
       "<table border=\"1\" class=\"dataframe\">\n",
       "  <thead>\n",
       "    <tr style=\"text-align: right;\">\n",
       "      <th></th>\n",
       "      <th>X</th>\n",
       "      <th>Vectorizer</th>\n",
       "      <th>Model</th>\n",
       "      <th>train_score</th>\n",
       "      <th>test_score</th>\n",
       "      <th>best_params</th>\n",
       "    </tr>\n",
       "  </thead>\n",
       "  <tbody>\n",
       "    <tr>\n",
       "      <th>vectorizer__max_df</th>\n",
       "      <td>title</td>\n",
       "      <td>TfidfVectorizer(analyzer='word', binary=False,...</td>\n",
       "      <td>MultinomialNB(alpha=1.0, class_prior=None, fit...</td>\n",
       "      <td>0.956989</td>\n",
       "      <td>0.730382</td>\n",
       "      <td>0.4</td>\n",
       "    </tr>\n",
       "    <tr>\n",
       "      <th>vectorizer__max_features</th>\n",
       "      <td>title</td>\n",
       "      <td>TfidfVectorizer(analyzer='word', binary=False,...</td>\n",
       "      <td>MultinomialNB(alpha=1.0, class_prior=None, fit...</td>\n",
       "      <td>0.956989</td>\n",
       "      <td>0.730382</td>\n",
       "      <td>4000</td>\n",
       "    </tr>\n",
       "    <tr>\n",
       "      <th>vectorizer__min_df</th>\n",
       "      <td>title</td>\n",
       "      <td>TfidfVectorizer(analyzer='word', binary=False,...</td>\n",
       "      <td>MultinomialNB(alpha=1.0, class_prior=None, fit...</td>\n",
       "      <td>0.956989</td>\n",
       "      <td>0.730382</td>\n",
       "      <td>1</td>\n",
       "    </tr>\n",
       "    <tr>\n",
       "      <th>vectorizer__ngram_range</th>\n",
       "      <td>title</td>\n",
       "      <td>TfidfVectorizer(analyzer='word', binary=False,...</td>\n",
       "      <td>MultinomialNB(alpha=1.0, class_prior=None, fit...</td>\n",
       "      <td>0.956989</td>\n",
       "      <td>0.730382</td>\n",
       "      <td>(1, 1)</td>\n",
       "    </tr>\n",
       "    <tr>\n",
       "      <th>vectorizer__stop_words</th>\n",
       "      <td>title</td>\n",
       "      <td>TfidfVectorizer(analyzer='word', binary=False,...</td>\n",
       "      <td>MultinomialNB(alpha=1.0, class_prior=None, fit...</td>\n",
       "      <td>0.956989</td>\n",
       "      <td>0.730382</td>\n",
       "      <td>english</td>\n",
       "    </tr>\n",
       "  </tbody>\n",
       "</table>\n",
       "</div>"
      ],
      "text/plain": [
       "                              X  \\\n",
       "vectorizer__max_df        title   \n",
       "vectorizer__max_features  title   \n",
       "vectorizer__min_df        title   \n",
       "vectorizer__ngram_range   title   \n",
       "vectorizer__stop_words    title   \n",
       "\n",
       "                                                                 Vectorizer  \\\n",
       "vectorizer__max_df        TfidfVectorizer(analyzer='word', binary=False,...   \n",
       "vectorizer__max_features  TfidfVectorizer(analyzer='word', binary=False,...   \n",
       "vectorizer__min_df        TfidfVectorizer(analyzer='word', binary=False,...   \n",
       "vectorizer__ngram_range   TfidfVectorizer(analyzer='word', binary=False,...   \n",
       "vectorizer__stop_words    TfidfVectorizer(analyzer='word', binary=False,...   \n",
       "\n",
       "                                                                      Model  \\\n",
       "vectorizer__max_df        MultinomialNB(alpha=1.0, class_prior=None, fit...   \n",
       "vectorizer__max_features  MultinomialNB(alpha=1.0, class_prior=None, fit...   \n",
       "vectorizer__min_df        MultinomialNB(alpha=1.0, class_prior=None, fit...   \n",
       "vectorizer__ngram_range   MultinomialNB(alpha=1.0, class_prior=None, fit...   \n",
       "vectorizer__stop_words    MultinomialNB(alpha=1.0, class_prior=None, fit...   \n",
       "\n",
       "                          train_score  test_score best_params  \n",
       "vectorizer__max_df           0.956989    0.730382         0.4  \n",
       "vectorizer__max_features     0.956989    0.730382        4000  \n",
       "vectorizer__min_df           0.956989    0.730382           1  \n",
       "vectorizer__ngram_range      0.956989    0.730382      (1, 1)  \n",
       "vectorizer__stop_words       0.956989    0.730382     english  "
      ]
     },
     "execution_count": 550,
     "metadata": {},
     "output_type": "execute_result"
    }
   ],
   "source": [
    "bayes = MultinomialNB()\n",
    "tfidf = TfidfVectorizer()\n",
    "\n",
    "params = {'vectorizer__stop_words': ['english'],\n",
    "          'vectorizer__max_features':[4000],\n",
    "          'vectorizer__ngram_range':[(1,1)],\n",
    "          'vectorizer__min_df':[1],\n",
    "          'vectorizer__max_df':[0.4]\n",
    "         }\n",
    "tfidf_NB = text_to_model(X_column='title', model = bayes, vectorizer=tfidf, params=params)\n",
    "tfidf_NB"
   ]
  },
  {
   "cell_type": "markdown",
   "metadata": {},
   "source": [
    "### Naive Bayes and CountVectorizer\n",
    "#### Accuracy = 0.728"
   ]
  },
  {
   "cell_type": "code",
   "execution_count": 520,
   "metadata": {
    "scrolled": true
   },
   "outputs": [
    {
     "name": "stdout",
     "output_type": "stream",
     "text": [
      "Fitting 5 folds for each of 1 candidates, totalling 5 fits\n"
     ]
    },
    {
     "name": "stderr",
     "output_type": "stream",
     "text": [
      "[Parallel(n_jobs=1)]: Using backend SequentialBackend with 1 concurrent workers.\n",
      "[Parallel(n_jobs=1)]: Done   5 out of   5 | elapsed:    0.2s finished\n"
     ]
    },
    {
     "data": {
      "text/html": [
       "<div>\n",
       "<style scoped>\n",
       "    .dataframe tbody tr th:only-of-type {\n",
       "        vertical-align: middle;\n",
       "    }\n",
       "\n",
       "    .dataframe tbody tr th {\n",
       "        vertical-align: top;\n",
       "    }\n",
       "\n",
       "    .dataframe thead th {\n",
       "        text-align: right;\n",
       "    }\n",
       "</style>\n",
       "<table border=\"1\" class=\"dataframe\">\n",
       "  <thead>\n",
       "    <tr style=\"text-align: right;\">\n",
       "      <th></th>\n",
       "      <th>X</th>\n",
       "      <th>Vectorizer</th>\n",
       "      <th>Model</th>\n",
       "      <th>train_score</th>\n",
       "      <th>test_score</th>\n",
       "      <th>best_params</th>\n",
       "    </tr>\n",
       "  </thead>\n",
       "  <tbody>\n",
       "    <tr>\n",
       "      <th>vectorizer__binary</th>\n",
       "      <td>title</td>\n",
       "      <td>CountVectorizer(analyzer='word', binary=False,...</td>\n",
       "      <td>MultinomialNB(alpha=1.0, class_prior=None, fit...</td>\n",
       "      <td>0.949597</td>\n",
       "      <td>0.72837</td>\n",
       "      <td>False</td>\n",
       "    </tr>\n",
       "    <tr>\n",
       "      <th>vectorizer__max_df</th>\n",
       "      <td>title</td>\n",
       "      <td>CountVectorizer(analyzer='word', binary=False,...</td>\n",
       "      <td>MultinomialNB(alpha=1.0, class_prior=None, fit...</td>\n",
       "      <td>0.949597</td>\n",
       "      <td>0.72837</td>\n",
       "      <td>1</td>\n",
       "    </tr>\n",
       "    <tr>\n",
       "      <th>vectorizer__max_features</th>\n",
       "      <td>title</td>\n",
       "      <td>CountVectorizer(analyzer='word', binary=False,...</td>\n",
       "      <td>MultinomialNB(alpha=1.0, class_prior=None, fit...</td>\n",
       "      <td>0.949597</td>\n",
       "      <td>0.72837</td>\n",
       "      <td>None</td>\n",
       "    </tr>\n",
       "    <tr>\n",
       "      <th>vectorizer__min_df</th>\n",
       "      <td>title</td>\n",
       "      <td>CountVectorizer(analyzer='word', binary=False,...</td>\n",
       "      <td>MultinomialNB(alpha=1.0, class_prior=None, fit...</td>\n",
       "      <td>0.949597</td>\n",
       "      <td>0.72837</td>\n",
       "      <td>1</td>\n",
       "    </tr>\n",
       "    <tr>\n",
       "      <th>vectorizer__ngram_range</th>\n",
       "      <td>title</td>\n",
       "      <td>CountVectorizer(analyzer='word', binary=False,...</td>\n",
       "      <td>MultinomialNB(alpha=1.0, class_prior=None, fit...</td>\n",
       "      <td>0.949597</td>\n",
       "      <td>0.72837</td>\n",
       "      <td>(1, 1)</td>\n",
       "    </tr>\n",
       "    <tr>\n",
       "      <th>vectorizer__stop_words</th>\n",
       "      <td>title</td>\n",
       "      <td>CountVectorizer(analyzer='word', binary=False,...</td>\n",
       "      <td>MultinomialNB(alpha=1.0, class_prior=None, fit...</td>\n",
       "      <td>0.949597</td>\n",
       "      <td>0.72837</td>\n",
       "      <td>english</td>\n",
       "    </tr>\n",
       "  </tbody>\n",
       "</table>\n",
       "</div>"
      ],
      "text/plain": [
       "                              X  \\\n",
       "vectorizer__binary        title   \n",
       "vectorizer__max_df        title   \n",
       "vectorizer__max_features  title   \n",
       "vectorizer__min_df        title   \n",
       "vectorizer__ngram_range   title   \n",
       "vectorizer__stop_words    title   \n",
       "\n",
       "                                                                 Vectorizer  \\\n",
       "vectorizer__binary        CountVectorizer(analyzer='word', binary=False,...   \n",
       "vectorizer__max_df        CountVectorizer(analyzer='word', binary=False,...   \n",
       "vectorizer__max_features  CountVectorizer(analyzer='word', binary=False,...   \n",
       "vectorizer__min_df        CountVectorizer(analyzer='word', binary=False,...   \n",
       "vectorizer__ngram_range   CountVectorizer(analyzer='word', binary=False,...   \n",
       "vectorizer__stop_words    CountVectorizer(analyzer='word', binary=False,...   \n",
       "\n",
       "                                                                      Model  \\\n",
       "vectorizer__binary        MultinomialNB(alpha=1.0, class_prior=None, fit...   \n",
       "vectorizer__max_df        MultinomialNB(alpha=1.0, class_prior=None, fit...   \n",
       "vectorizer__max_features  MultinomialNB(alpha=1.0, class_prior=None, fit...   \n",
       "vectorizer__min_df        MultinomialNB(alpha=1.0, class_prior=None, fit...   \n",
       "vectorizer__ngram_range   MultinomialNB(alpha=1.0, class_prior=None, fit...   \n",
       "vectorizer__stop_words    MultinomialNB(alpha=1.0, class_prior=None, fit...   \n",
       "\n",
       "                          train_score  test_score best_params  \n",
       "vectorizer__binary           0.949597     0.72837       False  \n",
       "vectorizer__max_df           0.949597     0.72837           1  \n",
       "vectorizer__max_features     0.949597     0.72837        None  \n",
       "vectorizer__min_df           0.949597     0.72837           1  \n",
       "vectorizer__ngram_range      0.949597     0.72837      (1, 1)  \n",
       "vectorizer__stop_words       0.949597     0.72837     english  "
      ]
     },
     "execution_count": 520,
     "metadata": {},
     "output_type": "execute_result"
    }
   ],
   "source": [
    "bayes = MultinomialNB()\n",
    "count_vect = CountVectorizer()\n",
    "\n",
    "params = {'vectorizer__stop_words': ['english'],\n",
    "          'vectorizer__max_features':[None],\n",
    "          'vectorizer__ngram_range':[(1,1)],\n",
    "          'vectorizer__min_df':[1],\n",
    "          'vectorizer__max_df':[1.0],\n",
    "          'vectorizer__binary':[False]\n",
    "         }\n",
    "cv_NB = text_to_model(X_column='title', model = bayes, vectorizer=count_vect, params=params)\n",
    "cv_NB"
   ]
  },
  {
   "cell_type": "markdown",
   "metadata": {},
   "source": [
    "### TF-IDF and Logistic Regression\n",
    "#### Accuracy = 0.742"
   ]
  },
  {
   "cell_type": "code",
   "execution_count": 527,
   "metadata": {
    "scrolled": true
   },
   "outputs": [
    {
     "name": "stdout",
     "output_type": "stream",
     "text": [
      "Fitting 5 folds for each of 2 candidates, totalling 10 fits\n"
     ]
    },
    {
     "name": "stderr",
     "output_type": "stream",
     "text": [
      "[Parallel(n_jobs=1)]: Using backend SequentialBackend with 1 concurrent workers.\n",
      "/anaconda3/lib/python3.6/site-packages/sklearn/linear_model/logistic.py:432: FutureWarning: Default solver will be changed to 'lbfgs' in 0.22. Specify a solver to silence this warning.\n",
      "  FutureWarning)\n",
      "[Parallel(n_jobs=1)]: Done  10 out of  10 | elapsed:    0.4s finished\n"
     ]
    },
    {
     "data": {
      "text/html": [
       "<div>\n",
       "<style scoped>\n",
       "    .dataframe tbody tr th:only-of-type {\n",
       "        vertical-align: middle;\n",
       "    }\n",
       "\n",
       "    .dataframe tbody tr th {\n",
       "        vertical-align: top;\n",
       "    }\n",
       "\n",
       "    .dataframe thead th {\n",
       "        text-align: right;\n",
       "    }\n",
       "</style>\n",
       "<table border=\"1\" class=\"dataframe\">\n",
       "  <thead>\n",
       "    <tr style=\"text-align: right;\">\n",
       "      <th></th>\n",
       "      <th>X</th>\n",
       "      <th>Vectorizer</th>\n",
       "      <th>Model</th>\n",
       "      <th>train_score</th>\n",
       "      <th>test_score</th>\n",
       "      <th>best_params</th>\n",
       "    </tr>\n",
       "  </thead>\n",
       "  <tbody>\n",
       "    <tr>\n",
       "      <th>model__penalty</th>\n",
       "      <td>title</td>\n",
       "      <td>TfidfVectorizer(analyzer='word', binary=False,...</td>\n",
       "      <td>LogisticRegression(C=1.0, class_weight=None, d...</td>\n",
       "      <td>0.942876</td>\n",
       "      <td>0.742455</td>\n",
       "      <td>l2</td>\n",
       "    </tr>\n",
       "    <tr>\n",
       "      <th>vectorizer__max_df</th>\n",
       "      <td>title</td>\n",
       "      <td>TfidfVectorizer(analyzer='word', binary=False,...</td>\n",
       "      <td>LogisticRegression(C=1.0, class_weight=None, d...</td>\n",
       "      <td>0.942876</td>\n",
       "      <td>0.742455</td>\n",
       "      <td>0.4</td>\n",
       "    </tr>\n",
       "    <tr>\n",
       "      <th>vectorizer__max_features</th>\n",
       "      <td>title</td>\n",
       "      <td>TfidfVectorizer(analyzer='word', binary=False,...</td>\n",
       "      <td>LogisticRegression(C=1.0, class_weight=None, d...</td>\n",
       "      <td>0.942876</td>\n",
       "      <td>0.742455</td>\n",
       "      <td>4000</td>\n",
       "    </tr>\n",
       "    <tr>\n",
       "      <th>vectorizer__min_df</th>\n",
       "      <td>title</td>\n",
       "      <td>TfidfVectorizer(analyzer='word', binary=False,...</td>\n",
       "      <td>LogisticRegression(C=1.0, class_weight=None, d...</td>\n",
       "      <td>0.942876</td>\n",
       "      <td>0.742455</td>\n",
       "      <td>1</td>\n",
       "    </tr>\n",
       "    <tr>\n",
       "      <th>vectorizer__ngram_range</th>\n",
       "      <td>title</td>\n",
       "      <td>TfidfVectorizer(analyzer='word', binary=False,...</td>\n",
       "      <td>LogisticRegression(C=1.0, class_weight=None, d...</td>\n",
       "      <td>0.942876</td>\n",
       "      <td>0.742455</td>\n",
       "      <td>(1, 1)</td>\n",
       "    </tr>\n",
       "    <tr>\n",
       "      <th>vectorizer__stop_words</th>\n",
       "      <td>title</td>\n",
       "      <td>TfidfVectorizer(analyzer='word', binary=False,...</td>\n",
       "      <td>LogisticRegression(C=1.0, class_weight=None, d...</td>\n",
       "      <td>0.942876</td>\n",
       "      <td>0.742455</td>\n",
       "      <td>english</td>\n",
       "    </tr>\n",
       "  </tbody>\n",
       "</table>\n",
       "</div>"
      ],
      "text/plain": [
       "                              X  \\\n",
       "model__penalty            title   \n",
       "vectorizer__max_df        title   \n",
       "vectorizer__max_features  title   \n",
       "vectorizer__min_df        title   \n",
       "vectorizer__ngram_range   title   \n",
       "vectorizer__stop_words    title   \n",
       "\n",
       "                                                                 Vectorizer  \\\n",
       "model__penalty            TfidfVectorizer(analyzer='word', binary=False,...   \n",
       "vectorizer__max_df        TfidfVectorizer(analyzer='word', binary=False,...   \n",
       "vectorizer__max_features  TfidfVectorizer(analyzer='word', binary=False,...   \n",
       "vectorizer__min_df        TfidfVectorizer(analyzer='word', binary=False,...   \n",
       "vectorizer__ngram_range   TfidfVectorizer(analyzer='word', binary=False,...   \n",
       "vectorizer__stop_words    TfidfVectorizer(analyzer='word', binary=False,...   \n",
       "\n",
       "                                                                      Model  \\\n",
       "model__penalty            LogisticRegression(C=1.0, class_weight=None, d...   \n",
       "vectorizer__max_df        LogisticRegression(C=1.0, class_weight=None, d...   \n",
       "vectorizer__max_features  LogisticRegression(C=1.0, class_weight=None, d...   \n",
       "vectorizer__min_df        LogisticRegression(C=1.0, class_weight=None, d...   \n",
       "vectorizer__ngram_range   LogisticRegression(C=1.0, class_weight=None, d...   \n",
       "vectorizer__stop_words    LogisticRegression(C=1.0, class_weight=None, d...   \n",
       "\n",
       "                          train_score  test_score best_params  \n",
       "model__penalty               0.942876    0.742455          l2  \n",
       "vectorizer__max_df           0.942876    0.742455         0.4  \n",
       "vectorizer__max_features     0.942876    0.742455        4000  \n",
       "vectorizer__min_df           0.942876    0.742455           1  \n",
       "vectorizer__ngram_range      0.942876    0.742455      (1, 1)  \n",
       "vectorizer__stop_words       0.942876    0.742455     english  "
      ]
     },
     "execution_count": 527,
     "metadata": {},
     "output_type": "execute_result"
    }
   ],
   "source": [
    "logreg = LogisticRegression()\n",
    "tfidf = TfidfVectorizer()\n",
    "\n",
    "params = {'vectorizer__stop_words': ['english'],\n",
    "          'vectorizer__max_features':[4000],\n",
    "          'vectorizer__ngram_range':[(1,1)],\n",
    "          'vectorizer__min_df':[1],\n",
    "          'vectorizer__max_df':[0.4],\n",
    "          'model__penalty':['l1', 'l2']\n",
    "         }\n",
    "tfidf_LogReg = text_to_model(X_column='title', model = logreg, vectorizer=tfidf, params=params)\n",
    "tfidf_LogReg"
   ]
  },
  {
   "cell_type": "markdown",
   "metadata": {},
   "source": [
    "### CountVectorizer and Logistic Regression\n",
    "#### Accuracy = 0.746"
   ]
  },
  {
   "cell_type": "code",
   "execution_count": 532,
   "metadata": {
    "scrolled": true
   },
   "outputs": [
    {
     "name": "stdout",
     "output_type": "stream",
     "text": [
      "Fitting 5 folds for each of 1 candidates, totalling 5 fits\n"
     ]
    },
    {
     "name": "stderr",
     "output_type": "stream",
     "text": [
      "[Parallel(n_jobs=1)]: Using backend SequentialBackend with 1 concurrent workers.\n",
      "/anaconda3/lib/python3.6/site-packages/sklearn/linear_model/logistic.py:432: FutureWarning: Default solver will be changed to 'lbfgs' in 0.22. Specify a solver to silence this warning.\n",
      "  FutureWarning)\n",
      "[Parallel(n_jobs=1)]: Done   5 out of   5 | elapsed:    0.2s finished\n"
     ]
    },
    {
     "data": {
      "text/html": [
       "<div>\n",
       "<style scoped>\n",
       "    .dataframe tbody tr th:only-of-type {\n",
       "        vertical-align: middle;\n",
       "    }\n",
       "\n",
       "    .dataframe tbody tr th {\n",
       "        vertical-align: top;\n",
       "    }\n",
       "\n",
       "    .dataframe thead th {\n",
       "        text-align: right;\n",
       "    }\n",
       "</style>\n",
       "<table border=\"1\" class=\"dataframe\">\n",
       "  <thead>\n",
       "    <tr style=\"text-align: right;\">\n",
       "      <th></th>\n",
       "      <th>X</th>\n",
       "      <th>Vectorizer</th>\n",
       "      <th>Model</th>\n",
       "      <th>train_score</th>\n",
       "      <th>test_score</th>\n",
       "      <th>best_params</th>\n",
       "    </tr>\n",
       "  </thead>\n",
       "  <tbody>\n",
       "    <tr>\n",
       "      <th>model__penalty</th>\n",
       "      <td>title</td>\n",
       "      <td>CountVectorizer(analyzer='word', binary=False,...</td>\n",
       "      <td>LogisticRegression(C=1.0, class_weight=None, d...</td>\n",
       "      <td>0.976478</td>\n",
       "      <td>0.746479</td>\n",
       "      <td>l2</td>\n",
       "    </tr>\n",
       "    <tr>\n",
       "      <th>vectorizer__max_df</th>\n",
       "      <td>title</td>\n",
       "      <td>CountVectorizer(analyzer='word', binary=False,...</td>\n",
       "      <td>LogisticRegression(C=1.0, class_weight=None, d...</td>\n",
       "      <td>0.976478</td>\n",
       "      <td>0.746479</td>\n",
       "      <td>1</td>\n",
       "    </tr>\n",
       "    <tr>\n",
       "      <th>vectorizer__max_features</th>\n",
       "      <td>title</td>\n",
       "      <td>CountVectorizer(analyzer='word', binary=False,...</td>\n",
       "      <td>LogisticRegression(C=1.0, class_weight=None, d...</td>\n",
       "      <td>0.976478</td>\n",
       "      <td>0.746479</td>\n",
       "      <td>4000</td>\n",
       "    </tr>\n",
       "    <tr>\n",
       "      <th>vectorizer__min_df</th>\n",
       "      <td>title</td>\n",
       "      <td>CountVectorizer(analyzer='word', binary=False,...</td>\n",
       "      <td>LogisticRegression(C=1.0, class_weight=None, d...</td>\n",
       "      <td>0.976478</td>\n",
       "      <td>0.746479</td>\n",
       "      <td>1</td>\n",
       "    </tr>\n",
       "    <tr>\n",
       "      <th>vectorizer__ngram_range</th>\n",
       "      <td>title</td>\n",
       "      <td>CountVectorizer(analyzer='word', binary=False,...</td>\n",
       "      <td>LogisticRegression(C=1.0, class_weight=None, d...</td>\n",
       "      <td>0.976478</td>\n",
       "      <td>0.746479</td>\n",
       "      <td>(1, 1)</td>\n",
       "    </tr>\n",
       "    <tr>\n",
       "      <th>vectorizer__stop_words</th>\n",
       "      <td>title</td>\n",
       "      <td>CountVectorizer(analyzer='word', binary=False,...</td>\n",
       "      <td>LogisticRegression(C=1.0, class_weight=None, d...</td>\n",
       "      <td>0.976478</td>\n",
       "      <td>0.746479</td>\n",
       "      <td>english</td>\n",
       "    </tr>\n",
       "  </tbody>\n",
       "</table>\n",
       "</div>"
      ],
      "text/plain": [
       "                              X  \\\n",
       "model__penalty            title   \n",
       "vectorizer__max_df        title   \n",
       "vectorizer__max_features  title   \n",
       "vectorizer__min_df        title   \n",
       "vectorizer__ngram_range   title   \n",
       "vectorizer__stop_words    title   \n",
       "\n",
       "                                                                 Vectorizer  \\\n",
       "model__penalty            CountVectorizer(analyzer='word', binary=False,...   \n",
       "vectorizer__max_df        CountVectorizer(analyzer='word', binary=False,...   \n",
       "vectorizer__max_features  CountVectorizer(analyzer='word', binary=False,...   \n",
       "vectorizer__min_df        CountVectorizer(analyzer='word', binary=False,...   \n",
       "vectorizer__ngram_range   CountVectorizer(analyzer='word', binary=False,...   \n",
       "vectorizer__stop_words    CountVectorizer(analyzer='word', binary=False,...   \n",
       "\n",
       "                                                                      Model  \\\n",
       "model__penalty            LogisticRegression(C=1.0, class_weight=None, d...   \n",
       "vectorizer__max_df        LogisticRegression(C=1.0, class_weight=None, d...   \n",
       "vectorizer__max_features  LogisticRegression(C=1.0, class_weight=None, d...   \n",
       "vectorizer__min_df        LogisticRegression(C=1.0, class_weight=None, d...   \n",
       "vectorizer__ngram_range   LogisticRegression(C=1.0, class_weight=None, d...   \n",
       "vectorizer__stop_words    LogisticRegression(C=1.0, class_weight=None, d...   \n",
       "\n",
       "                          train_score  test_score best_params  \n",
       "model__penalty               0.976478    0.746479          l2  \n",
       "vectorizer__max_df           0.976478    0.746479           1  \n",
       "vectorizer__max_features     0.976478    0.746479        4000  \n",
       "vectorizer__min_df           0.976478    0.746479           1  \n",
       "vectorizer__ngram_range      0.976478    0.746479      (1, 1)  \n",
       "vectorizer__stop_words       0.976478    0.746479     english  "
      ]
     },
     "execution_count": 532,
     "metadata": {},
     "output_type": "execute_result"
    }
   ],
   "source": [
    "logreg = LogisticRegression()\n",
    "cv = CountVectorizer()\n",
    "\n",
    "params = {'vectorizer__stop_words': ['english'],\n",
    "          'vectorizer__max_features':[4000],\n",
    "          'vectorizer__ngram_range':[(1,1)],\n",
    "          'vectorizer__min_df':[1],\n",
    "          'vectorizer__max_df':[1.0],\n",
    "          'model__penalty':['l2']\n",
    "         }\n",
    "count_vect_LogReg = text_to_model(X_column='title', model = logreg, vectorizer=cv, params=params)\n",
    "count_vect_LogReg"
   ]
  },
  {
   "cell_type": "markdown",
   "metadata": {},
   "source": [
    "### Logistic Regression on Stemmed version of Post Title \n",
    "#### Accuracy = 0.740\n",
    "##### Stemming seems to be overkill and does not improve predictions over lemmatizing"
   ]
  },
  {
   "cell_type": "code",
   "execution_count": 565,
   "metadata": {},
   "outputs": [
    {
     "name": "stdout",
     "output_type": "stream",
     "text": [
      "Fitting 5 folds for each of 1 candidates, totalling 5 fits\n"
     ]
    },
    {
     "name": "stderr",
     "output_type": "stream",
     "text": [
      "[Parallel(n_jobs=1)]: Using backend SequentialBackend with 1 concurrent workers.\n",
      "/anaconda3/lib/python3.6/site-packages/sklearn/linear_model/logistic.py:432: FutureWarning: Default solver will be changed to 'lbfgs' in 0.22. Specify a solver to silence this warning.\n",
      "  FutureWarning)\n",
      "[Parallel(n_jobs=1)]: Done   5 out of   5 | elapsed:    0.2s finished\n"
     ]
    },
    {
     "data": {
      "text/html": [
       "<div>\n",
       "<style scoped>\n",
       "    .dataframe tbody tr th:only-of-type {\n",
       "        vertical-align: middle;\n",
       "    }\n",
       "\n",
       "    .dataframe tbody tr th {\n",
       "        vertical-align: top;\n",
       "    }\n",
       "\n",
       "    .dataframe thead th {\n",
       "        text-align: right;\n",
       "    }\n",
       "</style>\n",
       "<table border=\"1\" class=\"dataframe\">\n",
       "  <thead>\n",
       "    <tr style=\"text-align: right;\">\n",
       "      <th></th>\n",
       "      <th>X</th>\n",
       "      <th>Vectorizer</th>\n",
       "      <th>Model</th>\n",
       "      <th>train_score</th>\n",
       "      <th>test_score</th>\n",
       "      <th>best_params</th>\n",
       "    </tr>\n",
       "  </thead>\n",
       "  <tbody>\n",
       "    <tr>\n",
       "      <th>model__penalty</th>\n",
       "      <td>stemmed</td>\n",
       "      <td>CountVectorizer(analyzer='word', binary=False,...</td>\n",
       "      <td>LogisticRegression(C=1.0, class_weight=None, d...</td>\n",
       "      <td>0.97043</td>\n",
       "      <td>0.740443</td>\n",
       "      <td>l2</td>\n",
       "    </tr>\n",
       "    <tr>\n",
       "      <th>vectorizer__max_df</th>\n",
       "      <td>stemmed</td>\n",
       "      <td>CountVectorizer(analyzer='word', binary=False,...</td>\n",
       "      <td>LogisticRegression(C=1.0, class_weight=None, d...</td>\n",
       "      <td>0.97043</td>\n",
       "      <td>0.740443</td>\n",
       "      <td>1</td>\n",
       "    </tr>\n",
       "    <tr>\n",
       "      <th>vectorizer__max_features</th>\n",
       "      <td>stemmed</td>\n",
       "      <td>CountVectorizer(analyzer='word', binary=False,...</td>\n",
       "      <td>LogisticRegression(C=1.0, class_weight=None, d...</td>\n",
       "      <td>0.97043</td>\n",
       "      <td>0.740443</td>\n",
       "      <td>4000</td>\n",
       "    </tr>\n",
       "    <tr>\n",
       "      <th>vectorizer__min_df</th>\n",
       "      <td>stemmed</td>\n",
       "      <td>CountVectorizer(analyzer='word', binary=False,...</td>\n",
       "      <td>LogisticRegression(C=1.0, class_weight=None, d...</td>\n",
       "      <td>0.97043</td>\n",
       "      <td>0.740443</td>\n",
       "      <td>1</td>\n",
       "    </tr>\n",
       "    <tr>\n",
       "      <th>vectorizer__ngram_range</th>\n",
       "      <td>stemmed</td>\n",
       "      <td>CountVectorizer(analyzer='word', binary=False,...</td>\n",
       "      <td>LogisticRegression(C=1.0, class_weight=None, d...</td>\n",
       "      <td>0.97043</td>\n",
       "      <td>0.740443</td>\n",
       "      <td>(1, 1)</td>\n",
       "    </tr>\n",
       "    <tr>\n",
       "      <th>vectorizer__stop_words</th>\n",
       "      <td>stemmed</td>\n",
       "      <td>CountVectorizer(analyzer='word', binary=False,...</td>\n",
       "      <td>LogisticRegression(C=1.0, class_weight=None, d...</td>\n",
       "      <td>0.97043</td>\n",
       "      <td>0.740443</td>\n",
       "      <td>english</td>\n",
       "    </tr>\n",
       "  </tbody>\n",
       "</table>\n",
       "</div>"
      ],
      "text/plain": [
       "                                X  \\\n",
       "model__penalty            stemmed   \n",
       "vectorizer__max_df        stemmed   \n",
       "vectorizer__max_features  stemmed   \n",
       "vectorizer__min_df        stemmed   \n",
       "vectorizer__ngram_range   stemmed   \n",
       "vectorizer__stop_words    stemmed   \n",
       "\n",
       "                                                                 Vectorizer  \\\n",
       "model__penalty            CountVectorizer(analyzer='word', binary=False,...   \n",
       "vectorizer__max_df        CountVectorizer(analyzer='word', binary=False,...   \n",
       "vectorizer__max_features  CountVectorizer(analyzer='word', binary=False,...   \n",
       "vectorizer__min_df        CountVectorizer(analyzer='word', binary=False,...   \n",
       "vectorizer__ngram_range   CountVectorizer(analyzer='word', binary=False,...   \n",
       "vectorizer__stop_words    CountVectorizer(analyzer='word', binary=False,...   \n",
       "\n",
       "                                                                      Model  \\\n",
       "model__penalty            LogisticRegression(C=1.0, class_weight=None, d...   \n",
       "vectorizer__max_df        LogisticRegression(C=1.0, class_weight=None, d...   \n",
       "vectorizer__max_features  LogisticRegression(C=1.0, class_weight=None, d...   \n",
       "vectorizer__min_df        LogisticRegression(C=1.0, class_weight=None, d...   \n",
       "vectorizer__ngram_range   LogisticRegression(C=1.0, class_weight=None, d...   \n",
       "vectorizer__stop_words    LogisticRegression(C=1.0, class_weight=None, d...   \n",
       "\n",
       "                          train_score  test_score best_params  \n",
       "model__penalty                0.97043    0.740443          l2  \n",
       "vectorizer__max_df            0.97043    0.740443           1  \n",
       "vectorizer__max_features      0.97043    0.740443        4000  \n",
       "vectorizer__min_df            0.97043    0.740443           1  \n",
       "vectorizer__ngram_range       0.97043    0.740443      (1, 1)  \n",
       "vectorizer__stop_words        0.97043    0.740443     english  "
      ]
     },
     "execution_count": 565,
     "metadata": {},
     "output_type": "execute_result"
    }
   ],
   "source": [
    "logreg = LogisticRegression()\n",
    "cv = CountVectorizer()\n",
    "\n",
    "params = {'vectorizer__stop_words': ['english'],\n",
    "          'vectorizer__max_features':[4000],\n",
    "          'vectorizer__ngram_range':[(1,1)],\n",
    "          'vectorizer__min_df':[1],\n",
    "          'vectorizer__max_df':[1.0],\n",
    "          'model__penalty':['l2']\n",
    "         }\n",
    "count_vect_LogReg = text_to_model(X_column='stemmed', model = logreg, vectorizer=cv, params=params)\n",
    "count_vect_LogReg"
   ]
  },
  {
   "cell_type": "markdown",
   "metadata": {},
   "source": [
    "# Setting up X with Lemmatized Post Title \n",
    "\n",
    "- This proves to be the best preprocessed text to vectorize."
   ]
  },
  {
   "cell_type": "markdown",
   "metadata": {},
   "source": [
    "### Logistic Regression on Lemmatized Text\n",
    "#### Accuracy = 0.755 (best yet!)"
   ]
  },
  {
   "cell_type": "code",
   "execution_count": 798,
   "metadata": {},
   "outputs": [
    {
     "name": "stdout",
     "output_type": "stream",
     "text": [
      "Fitting 5 folds for each of 7 candidates, totalling 35 fits\n"
     ]
    },
    {
     "name": "stderr",
     "output_type": "stream",
     "text": [
      "[Parallel(n_jobs=1)]: Using backend SequentialBackend with 1 concurrent workers.\n",
      "[Parallel(n_jobs=1)]: Done  35 out of  35 | elapsed:    1.3s finished\n"
     ]
    },
    {
     "data": {
      "text/html": [
       "<div>\n",
       "<style scoped>\n",
       "    .dataframe tbody tr th:only-of-type {\n",
       "        vertical-align: middle;\n",
       "    }\n",
       "\n",
       "    .dataframe tbody tr th {\n",
       "        vertical-align: top;\n",
       "    }\n",
       "\n",
       "    .dataframe thead th {\n",
       "        text-align: right;\n",
       "    }\n",
       "</style>\n",
       "<table border=\"1\" class=\"dataframe\">\n",
       "  <thead>\n",
       "    <tr style=\"text-align: right;\">\n",
       "      <th></th>\n",
       "      <th>X</th>\n",
       "      <th>Vectorizer</th>\n",
       "      <th>Model</th>\n",
       "      <th>train_score</th>\n",
       "      <th>test_score</th>\n",
       "      <th>best_params</th>\n",
       "    </tr>\n",
       "  </thead>\n",
       "  <tbody>\n",
       "    <tr>\n",
       "      <th>model__C</th>\n",
       "      <td>lemmatized</td>\n",
       "      <td>CountVectorizer(analyzer='word', binary=False,...</td>\n",
       "      <td>LogisticRegression(C=1.0, class_weight=None, d...</td>\n",
       "      <td>0.973118</td>\n",
       "      <td>0.754527</td>\n",
       "      <td>1</td>\n",
       "    </tr>\n",
       "    <tr>\n",
       "      <th>model__penalty</th>\n",
       "      <td>lemmatized</td>\n",
       "      <td>CountVectorizer(analyzer='word', binary=False,...</td>\n",
       "      <td>LogisticRegression(C=1.0, class_weight=None, d...</td>\n",
       "      <td>0.973118</td>\n",
       "      <td>0.754527</td>\n",
       "      <td>l2</td>\n",
       "    </tr>\n",
       "    <tr>\n",
       "      <th>vectorizer__max_df</th>\n",
       "      <td>lemmatized</td>\n",
       "      <td>CountVectorizer(analyzer='word', binary=False,...</td>\n",
       "      <td>LogisticRegression(C=1.0, class_weight=None, d...</td>\n",
       "      <td>0.973118</td>\n",
       "      <td>0.754527</td>\n",
       "      <td>1</td>\n",
       "    </tr>\n",
       "    <tr>\n",
       "      <th>vectorizer__max_features</th>\n",
       "      <td>lemmatized</td>\n",
       "      <td>CountVectorizer(analyzer='word', binary=False,...</td>\n",
       "      <td>LogisticRegression(C=1.0, class_weight=None, d...</td>\n",
       "      <td>0.973118</td>\n",
       "      <td>0.754527</td>\n",
       "      <td>4000</td>\n",
       "    </tr>\n",
       "    <tr>\n",
       "      <th>vectorizer__min_df</th>\n",
       "      <td>lemmatized</td>\n",
       "      <td>CountVectorizer(analyzer='word', binary=False,...</td>\n",
       "      <td>LogisticRegression(C=1.0, class_weight=None, d...</td>\n",
       "      <td>0.973118</td>\n",
       "      <td>0.754527</td>\n",
       "      <td>1</td>\n",
       "    </tr>\n",
       "    <tr>\n",
       "      <th>vectorizer__ngram_range</th>\n",
       "      <td>lemmatized</td>\n",
       "      <td>CountVectorizer(analyzer='word', binary=False,...</td>\n",
       "      <td>LogisticRegression(C=1.0, class_weight=None, d...</td>\n",
       "      <td>0.973118</td>\n",
       "      <td>0.754527</td>\n",
       "      <td>(1, 1)</td>\n",
       "    </tr>\n",
       "    <tr>\n",
       "      <th>vectorizer__stop_words</th>\n",
       "      <td>lemmatized</td>\n",
       "      <td>CountVectorizer(analyzer='word', binary=False,...</td>\n",
       "      <td>LogisticRegression(C=1.0, class_weight=None, d...</td>\n",
       "      <td>0.973118</td>\n",
       "      <td>0.754527</td>\n",
       "      <td>english</td>\n",
       "    </tr>\n",
       "  </tbody>\n",
       "</table>\n",
       "</div>"
      ],
      "text/plain": [
       "                                   X  \\\n",
       "model__C                  lemmatized   \n",
       "model__penalty            lemmatized   \n",
       "vectorizer__max_df        lemmatized   \n",
       "vectorizer__max_features  lemmatized   \n",
       "vectorizer__min_df        lemmatized   \n",
       "vectorizer__ngram_range   lemmatized   \n",
       "vectorizer__stop_words    lemmatized   \n",
       "\n",
       "                                                                 Vectorizer  \\\n",
       "model__C                  CountVectorizer(analyzer='word', binary=False,...   \n",
       "model__penalty            CountVectorizer(analyzer='word', binary=False,...   \n",
       "vectorizer__max_df        CountVectorizer(analyzer='word', binary=False,...   \n",
       "vectorizer__max_features  CountVectorizer(analyzer='word', binary=False,...   \n",
       "vectorizer__min_df        CountVectorizer(analyzer='word', binary=False,...   \n",
       "vectorizer__ngram_range   CountVectorizer(analyzer='word', binary=False,...   \n",
       "vectorizer__stop_words    CountVectorizer(analyzer='word', binary=False,...   \n",
       "\n",
       "                                                                      Model  \\\n",
       "model__C                  LogisticRegression(C=1.0, class_weight=None, d...   \n",
       "model__penalty            LogisticRegression(C=1.0, class_weight=None, d...   \n",
       "vectorizer__max_df        LogisticRegression(C=1.0, class_weight=None, d...   \n",
       "vectorizer__max_features  LogisticRegression(C=1.0, class_weight=None, d...   \n",
       "vectorizer__min_df        LogisticRegression(C=1.0, class_weight=None, d...   \n",
       "vectorizer__ngram_range   LogisticRegression(C=1.0, class_weight=None, d...   \n",
       "vectorizer__stop_words    LogisticRegression(C=1.0, class_weight=None, d...   \n",
       "\n",
       "                          train_score  test_score best_params  \n",
       "model__C                     0.973118    0.754527           1  \n",
       "model__penalty               0.973118    0.754527          l2  \n",
       "vectorizer__max_df           0.973118    0.754527           1  \n",
       "vectorizer__max_features     0.973118    0.754527        4000  \n",
       "vectorizer__min_df           0.973118    0.754527           1  \n",
       "vectorizer__ngram_range      0.973118    0.754527      (1, 1)  \n",
       "vectorizer__stop_words       0.973118    0.754527     english  "
      ]
     },
     "execution_count": 798,
     "metadata": {},
     "output_type": "execute_result"
    }
   ],
   "source": [
    "logreg = LogisticRegression()\n",
    "cv = CountVectorizer()\n",
    "\n",
    "params = {'vectorizer__stop_words': ['english'],\n",
    "          'vectorizer__max_features':[4000],\n",
    "          'vectorizer__ngram_range':[(1,1)],\n",
    "          'vectorizer__min_df':[1],\n",
    "          'vectorizer__max_df':[1.0],\n",
    "          'model__penalty':['l2'],\n",
    "          'model__C':[0.001, 0.05, 0.1, 0.5, 1.0, 5.0, 10]\n",
    "         }\n",
    "count_vect_LogReg = text_to_model(X_column='lemmatized', model = logreg, vectorizer=cv, params=params)\n",
    "count_vect_LogReg"
   ]
  },
  {
   "cell_type": "markdown",
   "metadata": {},
   "source": [
    "### A Single Decision Tree was not the ideal model, even with hyperparameter tuning\n",
    "#### Accuracy = 0.666"
   ]
  },
  {
   "cell_type": "code",
   "execution_count": 591,
   "metadata": {},
   "outputs": [
    {
     "name": "stdout",
     "output_type": "stream",
     "text": [
      "Fitting 5 folds for each of 3 candidates, totalling 15 fits\n"
     ]
    },
    {
     "name": "stderr",
     "output_type": "stream",
     "text": [
      "[Parallel(n_jobs=1)]: Using backend SequentialBackend with 1 concurrent workers.\n",
      "[Parallel(n_jobs=1)]: Done  15 out of  15 | elapsed:    1.3s finished\n"
     ]
    },
    {
     "data": {
      "text/html": [
       "<div>\n",
       "<style scoped>\n",
       "    .dataframe tbody tr th:only-of-type {\n",
       "        vertical-align: middle;\n",
       "    }\n",
       "\n",
       "    .dataframe tbody tr th {\n",
       "        vertical-align: top;\n",
       "    }\n",
       "\n",
       "    .dataframe thead th {\n",
       "        text-align: right;\n",
       "    }\n",
       "</style>\n",
       "<table border=\"1\" class=\"dataframe\">\n",
       "  <thead>\n",
       "    <tr style=\"text-align: right;\">\n",
       "      <th></th>\n",
       "      <th>X</th>\n",
       "      <th>Vectorizer</th>\n",
       "      <th>Model</th>\n",
       "      <th>train_score</th>\n",
       "      <th>test_score</th>\n",
       "      <th>best_params</th>\n",
       "    </tr>\n",
       "  </thead>\n",
       "  <tbody>\n",
       "    <tr>\n",
       "      <th>model__criterion</th>\n",
       "      <td>lemmatized</td>\n",
       "      <td>CountVectorizer(analyzer='word', binary=False,...</td>\n",
       "      <td>DecisionTreeClassifier(class_weight=None, crit...</td>\n",
       "      <td>1.0</td>\n",
       "      <td>0.665996</td>\n",
       "      <td>entropy</td>\n",
       "    </tr>\n",
       "    <tr>\n",
       "      <th>model__max_depth</th>\n",
       "      <td>lemmatized</td>\n",
       "      <td>CountVectorizer(analyzer='word', binary=False,...</td>\n",
       "      <td>DecisionTreeClassifier(class_weight=None, crit...</td>\n",
       "      <td>1.0</td>\n",
       "      <td>0.665996</td>\n",
       "      <td>None</td>\n",
       "    </tr>\n",
       "    <tr>\n",
       "      <th>model__max_features</th>\n",
       "      <td>lemmatized</td>\n",
       "      <td>CountVectorizer(analyzer='word', binary=False,...</td>\n",
       "      <td>DecisionTreeClassifier(class_weight=None, crit...</td>\n",
       "      <td>1.0</td>\n",
       "      <td>0.665996</td>\n",
       "      <td>0.9</td>\n",
       "    </tr>\n",
       "    <tr>\n",
       "      <th>vectorizer__max_df</th>\n",
       "      <td>lemmatized</td>\n",
       "      <td>CountVectorizer(analyzer='word', binary=False,...</td>\n",
       "      <td>DecisionTreeClassifier(class_weight=None, crit...</td>\n",
       "      <td>1.0</td>\n",
       "      <td>0.665996</td>\n",
       "      <td>1</td>\n",
       "    </tr>\n",
       "    <tr>\n",
       "      <th>vectorizer__max_features</th>\n",
       "      <td>lemmatized</td>\n",
       "      <td>CountVectorizer(analyzer='word', binary=False,...</td>\n",
       "      <td>DecisionTreeClassifier(class_weight=None, crit...</td>\n",
       "      <td>1.0</td>\n",
       "      <td>0.665996</td>\n",
       "      <td>8000</td>\n",
       "    </tr>\n",
       "    <tr>\n",
       "      <th>vectorizer__min_df</th>\n",
       "      <td>lemmatized</td>\n",
       "      <td>CountVectorizer(analyzer='word', binary=False,...</td>\n",
       "      <td>DecisionTreeClassifier(class_weight=None, crit...</td>\n",
       "      <td>1.0</td>\n",
       "      <td>0.665996</td>\n",
       "      <td>1</td>\n",
       "    </tr>\n",
       "    <tr>\n",
       "      <th>vectorizer__ngram_range</th>\n",
       "      <td>lemmatized</td>\n",
       "      <td>CountVectorizer(analyzer='word', binary=False,...</td>\n",
       "      <td>DecisionTreeClassifier(class_weight=None, crit...</td>\n",
       "      <td>1.0</td>\n",
       "      <td>0.665996</td>\n",
       "      <td>(1, 1)</td>\n",
       "    </tr>\n",
       "    <tr>\n",
       "      <th>vectorizer__stop_words</th>\n",
       "      <td>lemmatized</td>\n",
       "      <td>CountVectorizer(analyzer='word', binary=False,...</td>\n",
       "      <td>DecisionTreeClassifier(class_weight=None, crit...</td>\n",
       "      <td>1.0</td>\n",
       "      <td>0.665996</td>\n",
       "      <td>english</td>\n",
       "    </tr>\n",
       "  </tbody>\n",
       "</table>\n",
       "</div>"
      ],
      "text/plain": [
       "                                   X  \\\n",
       "model__criterion          lemmatized   \n",
       "model__max_depth          lemmatized   \n",
       "model__max_features       lemmatized   \n",
       "vectorizer__max_df        lemmatized   \n",
       "vectorizer__max_features  lemmatized   \n",
       "vectorizer__min_df        lemmatized   \n",
       "vectorizer__ngram_range   lemmatized   \n",
       "vectorizer__stop_words    lemmatized   \n",
       "\n",
       "                                                                 Vectorizer  \\\n",
       "model__criterion          CountVectorizer(analyzer='word', binary=False,...   \n",
       "model__max_depth          CountVectorizer(analyzer='word', binary=False,...   \n",
       "model__max_features       CountVectorizer(analyzer='word', binary=False,...   \n",
       "vectorizer__max_df        CountVectorizer(analyzer='word', binary=False,...   \n",
       "vectorizer__max_features  CountVectorizer(analyzer='word', binary=False,...   \n",
       "vectorizer__min_df        CountVectorizer(analyzer='word', binary=False,...   \n",
       "vectorizer__ngram_range   CountVectorizer(analyzer='word', binary=False,...   \n",
       "vectorizer__stop_words    CountVectorizer(analyzer='word', binary=False,...   \n",
       "\n",
       "                                                                      Model  \\\n",
       "model__criterion          DecisionTreeClassifier(class_weight=None, crit...   \n",
       "model__max_depth          DecisionTreeClassifier(class_weight=None, crit...   \n",
       "model__max_features       DecisionTreeClassifier(class_weight=None, crit...   \n",
       "vectorizer__max_df        DecisionTreeClassifier(class_weight=None, crit...   \n",
       "vectorizer__max_features  DecisionTreeClassifier(class_weight=None, crit...   \n",
       "vectorizer__min_df        DecisionTreeClassifier(class_weight=None, crit...   \n",
       "vectorizer__ngram_range   DecisionTreeClassifier(class_weight=None, crit...   \n",
       "vectorizer__stop_words    DecisionTreeClassifier(class_weight=None, crit...   \n",
       "\n",
       "                          train_score  test_score best_params  \n",
       "model__criterion                  1.0    0.665996     entropy  \n",
       "model__max_depth                  1.0    0.665996        None  \n",
       "model__max_features               1.0    0.665996         0.9  \n",
       "vectorizer__max_df                1.0    0.665996           1  \n",
       "vectorizer__max_features          1.0    0.665996        8000  \n",
       "vectorizer__min_df                1.0    0.665996           1  \n",
       "vectorizer__ngram_range           1.0    0.665996      (1, 1)  \n",
       "vectorizer__stop_words            1.0    0.665996     english  "
      ]
     },
     "execution_count": 591,
     "metadata": {},
     "output_type": "execute_result"
    }
   ],
   "source": [
    "tree = DecisionTreeClassifier()\n",
    "count = CountVectorizer()\n",
    "\n",
    "params = {'vectorizer__stop_words': ['english'],\n",
    "          'vectorizer__max_features':[10000, 8000, 12000],\n",
    "          'vectorizer__ngram_range':[(1,1)],\n",
    "          'vectorizer__min_df':[1],\n",
    "          'vectorizer__max_df':[1.0],\n",
    "          'model__criterion':['entropy'],\n",
    "          'model__max_features':[0.9],\n",
    "          'model__max_depth':[None]\n",
    "         }\n",
    "count_vect_tree = text_to_model(X_column='lemmatized', model = tree, vectorizer = count, params=params)\n",
    "count_vect_tree"
   ]
  },
  {
   "cell_type": "markdown",
   "metadata": {},
   "source": [
    "### Count Vectorizer and RandomForest\n",
    "#### Accuracy = 0.724"
   ]
  },
  {
   "cell_type": "code",
   "execution_count": 592,
   "metadata": {
    "scrolled": true
   },
   "outputs": [
    {
     "name": "stdout",
     "output_type": "stream",
     "text": [
      "Fitting 5 folds for each of 2 candidates, totalling 10 fits\n"
     ]
    },
    {
     "name": "stderr",
     "output_type": "stream",
     "text": [
      "[Parallel(n_jobs=1)]: Using backend SequentialBackend with 1 concurrent workers.\n",
      "[Parallel(n_jobs=1)]: Done  10 out of  10 | elapsed:    0.7s finished\n"
     ]
    },
    {
     "data": {
      "text/plain": [
       "{'X': 'lemmatized',\n",
       " 'Vectorizer': CountVectorizer(analyzer='word', binary=False, decode_error='strict',\n",
       "         dtype=<class 'numpy.int64'>, encoding='utf-8', input='content',\n",
       "         lowercase=True, max_df=1.0, max_features=None, min_df=1,\n",
       "         ngram_range=(1, 1), preprocessor=None, stop_words=None,\n",
       "         strip_accents=None, token_pattern='(?u)\\\\b\\\\w\\\\w+\\\\b',\n",
       "         tokenizer=None, vocabulary=None),\n",
       " 'Model': RandomForestClassifier(bootstrap=True, class_weight=None, criterion='gini',\n",
       "             max_depth=None, max_features='auto', max_leaf_nodes=None,\n",
       "             min_impurity_decrease=0.0, min_impurity_split=None,\n",
       "             min_samples_leaf=1, min_samples_split=2,\n",
       "             min_weight_fraction_leaf=0.0, n_estimators=10, n_jobs=None,\n",
       "             oob_score=False, random_state=None, verbose=0,\n",
       "             warm_start=False),\n",
       " 'train_score': 0.9758064516129032,\n",
       " 'test_score': 0.7243460764587525,\n",
       " 'best_params': {'model__criterion': 'entropy',\n",
       "  'model__max_depth': None,\n",
       "  'model__max_features': 'auto',\n",
       "  'vectorizer__max_df': 1.0,\n",
       "  'vectorizer__max_features': 4000,\n",
       "  'vectorizer__min_df': 1,\n",
       "  'vectorizer__ngram_range': (1, 1),\n",
       "  'vectorizer__stop_words': 'english'}}"
      ]
     },
     "execution_count": 592,
     "metadata": {},
     "output_type": "execute_result"
    }
   ],
   "source": [
    "forest = RandomForestClassifier(n_estimators=10)\n",
    "count = CountVectorizer()\n",
    "\n",
    "params = {'vectorizer__stop_words': ['english'],\n",
    "          'vectorizer__max_features':[4000],\n",
    "          'vectorizer__ngram_range':[(1,1)],\n",
    "          'vectorizer__min_df':[1],\n",
    "          'vectorizer__max_df':[1.0],\n",
    "          'model__criterion':['entropy'],\n",
    "          'model__max_features':['auto'],\n",
    "          'model__max_depth':[None, 100]\n",
    "         }\n",
    "\n",
    "count_vect_forest = text_to_model(X_column='lemmatized', model = forest, vectorizer = count, params=params)\n",
    "count_vect_forest"
   ]
  },
  {
   "cell_type": "markdown",
   "metadata": {},
   "source": [
    "### TF - IDF and Random Forest Classifier\n",
    "#### Accuracy = 0.69"
   ]
  },
  {
   "cell_type": "code",
   "execution_count": 621,
   "metadata": {
    "scrolled": true
   },
   "outputs": [
    {
     "name": "stdout",
     "output_type": "stream",
     "text": [
      "Fitting 5 folds for each of 9 candidates, totalling 45 fits\n"
     ]
    },
    {
     "name": "stderr",
     "output_type": "stream",
     "text": [
      "[Parallel(n_jobs=1)]: Using backend SequentialBackend with 1 concurrent workers.\n",
      "[Parallel(n_jobs=1)]: Done  45 out of  45 | elapsed:    2.6s finished\n"
     ]
    },
    {
     "data": {
      "text/plain": [
       "{'X': 'lemmatized',\n",
       " 'Vectorizer': TfidfVectorizer(analyzer='word', binary=False, decode_error='strict',\n",
       "         dtype=<class 'numpy.float64'>, encoding='utf-8', input='content',\n",
       "         lowercase=True, max_df=1.0, max_features=None, min_df=1,\n",
       "         ngram_range=(1, 1), norm='l2', preprocessor=None, smooth_idf=True,\n",
       "         stop_words=None, strip_accents=None, sublinear_tf=False,\n",
       "         token_pattern='(?u)\\\\b\\\\w\\\\w+\\\\b', tokenizer=None, use_idf=True,\n",
       "         vocabulary=None),\n",
       " 'Model': RandomForestClassifier(bootstrap=True, class_weight=None, criterion='gini',\n",
       "             max_depth=None, max_features='auto', max_leaf_nodes=None,\n",
       "             min_impurity_decrease=0.0, min_impurity_split=None,\n",
       "             min_samples_leaf=1, min_samples_split=2,\n",
       "             min_weight_fraction_leaf=0.0, n_estimators=10, n_jobs=None,\n",
       "             oob_score=False, random_state=None, verbose=0,\n",
       "             warm_start=False),\n",
       " 'train_score': 0.9307795698924731,\n",
       " 'test_score': 0.6921529175050302,\n",
       " 'best_params': {'model__criterion': 'gini',\n",
       "  'model__max_depth': 75,\n",
       "  'model__max_features': 'auto',\n",
       "  'vectorizer__max_df': 1.0,\n",
       "  'vectorizer__max_features': 500,\n",
       "  'vectorizer__min_df': 1,\n",
       "  'vectorizer__ngram_range': (1, 1),\n",
       "  'vectorizer__stop_words': 'english'}}"
      ]
     },
     "execution_count": 621,
     "metadata": {},
     "output_type": "execute_result"
    }
   ],
   "source": [
    "forest = RandomForestClassifier(n_estimators=10)\n",
    "tfidf = TfidfVectorizer()\n",
    "\n",
    "params = {'vectorizer__stop_words': ['english'],\n",
    "          'vectorizer__max_features':[1000, 2000, 500],\n",
    "          'vectorizer__ngram_range':[(1,1)],\n",
    "          'vectorizer__min_df':[1],\n",
    "          'vectorizer__max_df':[1.0],\n",
    "          'model__criterion':['gini'],\n",
    "          'model__max_features':['auto'],\n",
    "          'model__max_depth':[25, 75, 50]\n",
    "         }\n",
    "\n",
    "tfidf_vect_forest = text_to_model(X_column='lemmatized', model = forest, vectorizer = tfidf, params=params)\n",
    "tfidf_vect_forest"
   ]
  },
  {
   "cell_type": "markdown",
   "metadata": {},
   "source": [
    "### Count Vectorizer and ExtraTrees\n",
    "#### Accuracy = 0.700"
   ]
  },
  {
   "cell_type": "code",
   "execution_count": 622,
   "metadata": {},
   "outputs": [
    {
     "name": "stdout",
     "output_type": "stream",
     "text": [
      "Fitting 5 folds for each of 80 candidates, totalling 400 fits\n"
     ]
    },
    {
     "name": "stderr",
     "output_type": "stream",
     "text": [
      "[Parallel(n_jobs=1)]: Using backend SequentialBackend with 1 concurrent workers.\n",
      "[Parallel(n_jobs=1)]: Done 400 out of 400 | elapsed:   30.3s finished\n"
     ]
    },
    {
     "data": {
      "text/plain": [
       "{'X': 'lemmatized',\n",
       " 'Vectorizer': CountVectorizer(analyzer='word', binary=False, decode_error='strict',\n",
       "         dtype=<class 'numpy.int64'>, encoding='utf-8', input='content',\n",
       "         lowercase=True, max_df=1.0, max_features=None, min_df=1,\n",
       "         ngram_range=(1, 1), preprocessor=None, stop_words=None,\n",
       "         strip_accents=None, token_pattern='(?u)\\\\b\\\\w\\\\w+\\\\b',\n",
       "         tokenizer=None, vocabulary=None),\n",
       " 'Model': ExtraTreesClassifier(bootstrap=False, class_weight=None, criterion='gini',\n",
       "            max_depth=None, max_features='auto', max_leaf_nodes=None,\n",
       "            min_impurity_decrease=0.0, min_impurity_split=None,\n",
       "            min_samples_leaf=1, min_samples_split=2,\n",
       "            min_weight_fraction_leaf=0.0, n_estimators='warn', n_jobs=None,\n",
       "            oob_score=False, random_state=None, verbose=0, warm_start=False),\n",
       " 'train_score': 0.8608870967741935,\n",
       " 'test_score': 0.7002012072434608,\n",
       " 'best_params': {'model__criterion': 'gini',\n",
       "  'model__max_depth': 25,\n",
       "  'model__max_features': 'auto',\n",
       "  'vectorizer__max_df': 1.0,\n",
       "  'vectorizer__max_features': 2000,\n",
       "  'vectorizer__min_df': 1,\n",
       "  'vectorizer__ngram_range': (1, 1),\n",
       "  'vectorizer__stop_words': None}}"
      ]
     },
     "execution_count": 622,
     "metadata": {},
     "output_type": "execute_result"
    }
   ],
   "source": [
    "extra = ExtraTreesClassifier()\n",
    "count = CountVectorizer()\n",
    "\n",
    "params = {'vectorizer__stop_words': ['english', None],\n",
    "          'vectorizer__max_features':[2000],\n",
    "          'vectorizer__ngram_range':[(1,1)],\n",
    "          'vectorizer__min_df':[1],\n",
    "          'vectorizer__max_df':[1.0],\n",
    "          'model__criterion':['gini'],\n",
    "          'model__max_features':['auto'],\n",
    "          'model__max_depth':[25]\n",
    "         }\n",
    "\n",
    "count_vect_extra = text_to_model(X_column='lemmatized', model = extra, vectorizer = count, params=params)\n",
    "count_vect_extra"
   ]
  },
  {
   "cell_type": "markdown",
   "metadata": {},
   "source": [
    "### Bagging! with DecisionTreeClassifier\n",
    "#### Accuracy = 0.767"
   ]
  },
  {
   "cell_type": "code",
   "execution_count": 720,
   "metadata": {
    "scrolled": true
   },
   "outputs": [
    {
     "name": "stdout",
     "output_type": "stream",
     "text": [
      "Fitting 5 folds for each of 1 candidates, totalling 5 fits\n"
     ]
    },
    {
     "name": "stderr",
     "output_type": "stream",
     "text": [
      "[Parallel(n_jobs=1)]: Using backend SequentialBackend with 1 concurrent workers.\n",
      "[Parallel(n_jobs=1)]: Done   5 out of   5 | elapsed:   22.4s finished\n"
     ]
    },
    {
     "data": {
      "text/plain": [
       "{'X': 'lemmatized',\n",
       " 'Vectorizer': CountVectorizer(analyzer='word', binary=False, decode_error='strict',\n",
       "         dtype=<class 'numpy.int64'>, encoding='utf-8', input='content',\n",
       "         lowercase=True, max_df=1.0, max_features=None, min_df=1,\n",
       "         ngram_range=(1, 1), preprocessor=None, stop_words=None,\n",
       "         strip_accents=None, token_pattern='(?u)\\\\b\\\\w\\\\w+\\\\b',\n",
       "         tokenizer=None, vocabulary=None),\n",
       " 'Model': BaggingClassifier(base_estimator=None, bootstrap=True,\n",
       "          bootstrap_features=False, max_features=1.0, max_samples=1.0,\n",
       "          n_estimators=10, n_jobs=None, oob_score=False, random_state=None,\n",
       "          verbose=0, warm_start=False),\n",
       " 'train_score': 1.0,\n",
       " 'test_score': 0.7665995975855131,\n",
       " 'best_params': {'model__bootstrap': False,\n",
       "  'model__bootstrap_features': True,\n",
       "  'model__max_features': 0.5,\n",
       "  'model__max_samples': 1.0,\n",
       "  'model__n_estimators': 100,\n",
       "  'vectorizer__max_df': 1.0,\n",
       "  'vectorizer__max_features': 4000,\n",
       "  'vectorizer__min_df': 1,\n",
       "  'vectorizer__ngram_range': (1, 1),\n",
       "  'vectorizer__stop_words': 'english'}}"
      ]
     },
     "execution_count": 720,
     "metadata": {},
     "output_type": "execute_result"
    }
   ],
   "source": [
    "bag = BaggingClassifier()\n",
    "count = CountVectorizer()\n",
    "\n",
    "params = {'vectorizer__stop_words': ['english'],\n",
    "          'vectorizer__max_features':[4000],\n",
    "          'vectorizer__ngram_range':[(1,1)],\n",
    "          'vectorizer__min_df':[1],\n",
    "          'vectorizer__max_df':[1.0],\n",
    "          'model__max_samples':[1.0],\n",
    "          'model__n_estimators':[100],\n",
    "          'model__bootstrap':[False],\n",
    "          'model__bootstrap_features':[True],\n",
    "          'model__max_features':[0.5]\n",
    "         }\n",
    "\n",
    "count_vect_bag = text_to_model(X_column='lemmatized', model = bag, vectorizer = count, params=params)\n",
    "count_vect_bag"
   ]
  },
  {
   "cell_type": "markdown",
   "metadata": {},
   "source": [
    "### Bagging with Logistic Regression\n",
    "#### Accuracy = 0.757"
   ]
  },
  {
   "cell_type": "code",
   "execution_count": 721,
   "metadata": {
    "scrolled": true
   },
   "outputs": [
    {
     "name": "stdout",
     "output_type": "stream",
     "text": [
      "Fitting 5 folds for each of 1 candidates, totalling 5 fits\n"
     ]
    },
    {
     "name": "stderr",
     "output_type": "stream",
     "text": [
      "[Parallel(n_jobs=1)]: Using backend SequentialBackend with 1 concurrent workers.\n",
      "[Parallel(n_jobs=1)]: Done   5 out of   5 | elapsed:    5.9s finished\n"
     ]
    },
    {
     "data": {
      "text/plain": [
       "{'X': 'lemmatized',\n",
       " 'Vectorizer': CountVectorizer(analyzer='word', binary=False, decode_error='strict',\n",
       "         dtype=<class 'numpy.int64'>, encoding='utf-8', input='content',\n",
       "         lowercase=True, max_df=1.0, max_features=None, min_df=1,\n",
       "         ngram_range=(1, 1), preprocessor=None, stop_words=None,\n",
       "         strip_accents=None, token_pattern='(?u)\\\\b\\\\w\\\\w+\\\\b',\n",
       "         tokenizer=None, vocabulary=None),\n",
       " 'Model': BaggingClassifier(base_estimator=LogisticRegression(C=1.0, class_weight=None, dual=False, fit_intercept=True,\n",
       "           intercept_scaling=1, max_iter=100, multi_class='warn',\n",
       "           n_jobs=None, penalty='l2', random_state=None, solver='warn',\n",
       "           tol=0.0001, verbose=0, warm_start=False),\n",
       "          bootstrap=True, bootstrap_features=False, max_features=1.0,\n",
       "          max_samples=1.0, n_estimators=10, n_jobs=None, oob_score=False,\n",
       "          random_state=None, verbose=0, warm_start=False),\n",
       " 'train_score': 0.9428763440860215,\n",
       " 'test_score': 0.7565392354124748,\n",
       " 'best_params': {'model__bootstrap': True,\n",
       "  'model__bootstrap_features': True,\n",
       "  'model__max_features': 1.0,\n",
       "  'model__max_samples': 0.75,\n",
       "  'model__n_estimators': 200,\n",
       "  'vectorizer__max_df': 1.0,\n",
       "  'vectorizer__max_features': 4000,\n",
       "  'vectorizer__min_df': 1,\n",
       "  'vectorizer__ngram_range': (1, 1),\n",
       "  'vectorizer__stop_words': 'english'}}"
      ]
     },
     "execution_count": 721,
     "metadata": {},
     "output_type": "execute_result"
    }
   ],
   "source": [
    "bag = BaggingClassifier(base_estimator=LogisticRegression())\n",
    "count = CountVectorizer()\n",
    "\n",
    "params = {'vectorizer__stop_words': ['english'],\n",
    "          'vectorizer__max_features':[4000],\n",
    "          'vectorizer__ngram_range':[(1,1)],\n",
    "          'vectorizer__min_df':[1],\n",
    "          'vectorizer__max_df':[1.0],\n",
    "          'model__max_samples':[0.75],\n",
    "          'model__n_estimators':[200],\n",
    "          'model__bootstrap':[True],\n",
    "          'model__bootstrap_features':[True],\n",
    "          'model__max_features':[1.0]\n",
    "         }\n",
    "\n",
    "count_vect_bag_logreg = text_to_model(X_column='lemmatized', model = bag, vectorizer = count, params=params)\n",
    "count_vect_bag_logreg"
   ]
  },
  {
   "cell_type": "markdown",
   "metadata": {},
   "source": [
    "## Boosting with Logistic Regression\n",
    "#### Accuracy = 0.728"
   ]
  },
  {
   "cell_type": "code",
   "execution_count": 647,
   "metadata": {},
   "outputs": [
    {
     "name": "stdout",
     "output_type": "stream",
     "text": [
      "Fitting 5 folds for each of 2 candidates, totalling 10 fits\n"
     ]
    },
    {
     "name": "stderr",
     "output_type": "stream",
     "text": [
      "[Parallel(n_jobs=1)]: Using backend SequentialBackend with 1 concurrent workers.\n",
      "[Parallel(n_jobs=1)]: Done  10 out of  10 | elapsed:    3.5s finished\n"
     ]
    },
    {
     "data": {
      "text/plain": [
       "{'X': 'lemmatized',\n",
       " 'Vectorizer': CountVectorizer(analyzer='word', binary=False, decode_error='strict',\n",
       "         dtype=<class 'numpy.int64'>, encoding='utf-8', input='content',\n",
       "         lowercase=True, max_df=1.0, max_features=None, min_df=1,\n",
       "         ngram_range=(1, 1), preprocessor=None, stop_words=None,\n",
       "         strip_accents=None, token_pattern='(?u)\\\\b\\\\w\\\\w+\\\\b',\n",
       "         tokenizer=None, vocabulary=None),\n",
       " 'Model': AdaBoostClassifier(algorithm='SAMME.R', base_estimator=None,\n",
       "           learning_rate=1.0, n_estimators=50, random_state=None),\n",
       " 'train_score': 0.8676075268817204,\n",
       " 'test_score': 0.7283702213279678,\n",
       " 'best_params': {'model__base_estimator': LogisticRegression(C=1, class_weight=None, dual=False, fit_intercept=True,\n",
       "            intercept_scaling=1, max_iter=100, multi_class='warn',\n",
       "            n_jobs=None, penalty='l2', random_state=None, solver='warn',\n",
       "            tol=0.0001, verbose=0, warm_start=False),\n",
       "  'model__n_estimators': 200,\n",
       "  'vectorizer__max_df': 1.0,\n",
       "  'vectorizer__max_features': 4000,\n",
       "  'vectorizer__min_df': 1,\n",
       "  'vectorizer__ngram_range': (1, 1),\n",
       "  'vectorizer__stop_words': 'english'}}"
      ]
     },
     "execution_count": 647,
     "metadata": {},
     "output_type": "execute_result"
    }
   ],
   "source": [
    "boost = AdaBoostClassifier()\n",
    "count = CountVectorizer()\n",
    "\n",
    "params = {'vectorizer__stop_words': ['english'],\n",
    "          'vectorizer__max_features':[4000],\n",
    "          'vectorizer__ngram_range':[(1,1)],\n",
    "          'vectorizer__min_df':[1],\n",
    "          'vectorizer__max_df':[1.0],\n",
    "          'model__n_estimators':[100, 200],\n",
    "          'model__base_estimator':[LogisticRegression(penalty='l2', C=1)]}\n",
    "\n",
    "count_vect_boost = text_to_model(X_column='lemmatized', model = boost, vectorizer = count, params=params)\n",
    "count_vect_boost"
   ]
  },
  {
   "cell_type": "markdown",
   "metadata": {},
   "source": [
    "# Final Model Comparison \n",
    "### Logistic Regression\n",
    "#### Hyperparameters: \n",
    "- **C = 0.5**\n",
    "\n",
    "### Bagged Logistic Regression\n",
    "#### Hyperparameters:\n",
    "- **max_samples = 1.0**\n",
    "- **n_estimators = 50**\n",
    "- **max_features = 1.0**\n",
    "\n",
    "### Bagged Decision Tree Classifier\n",
    "#### Hyperparameters:\n",
    "- **n_estimators = 100** \n",
    "- **bootstrap = True**\n",
    "- **bootstrap_features = False**\n",
    "- **max_features = 0.75**\n",
    "- **max_samples = 1.0**"
   ]
  },
  {
   "cell_type": "markdown",
   "metadata": {},
   "source": [
    "### First, setting up X and y to pass through Count Vectorizer."
   ]
  },
  {
   "cell_type": "code",
   "execution_count": 648,
   "metadata": {},
   "outputs": [],
   "source": [
    "X = df['lemmatized']\n",
    "y = df['subreddit']"
   ]
  },
  {
   "cell_type": "code",
   "execution_count": 649,
   "metadata": {},
   "outputs": [],
   "source": [
    "count_vect = CountVectorizer(max_features=4000, stop_words='english')\n",
    "\n",
    "X_vect = count_vect.fit_transform(X)"
   ]
  },
  {
   "cell_type": "code",
   "execution_count": 666,
   "metadata": {
    "scrolled": false
   },
   "outputs": [],
   "source": [
    "X_vect_df = pd.DataFrame(X_vect.toarray(), columns = count_vect.get_feature_names())"
   ]
  },
  {
   "cell_type": "markdown",
   "metadata": {},
   "source": [
    "#### Adding Non-vectorized features from the dataframe"
   ]
  },
  {
   "cell_type": "code",
   "execution_count": 667,
   "metadata": {},
   "outputs": [],
   "source": [
    "X_vect_df['comments'] = df['comments']\n",
    "X_vect_df['score'] = df['score']\n",
    "X_vect_df['avg_word_len'] = df['avg_word_len']\n",
    "X_vect_df['title_length'] = df['title_length']\n",
    "X_vect_df['positive_sentiment'] = df['positive_sentiment']\n",
    "X_vect_df['negative_sentiment'] = df['negative_sentiment']\n",
    "X_vect_df['neutral_sentiment'] = df['neutral_sentiment']\n",
    "X_vect_df['compound_sentiment'] = df['compound_sentiment']"
   ]
  },
  {
   "cell_type": "markdown",
   "metadata": {},
   "source": [
    "### Train-Test Split"
   ]
  },
  {
   "cell_type": "code",
   "execution_count": 668,
   "metadata": {},
   "outputs": [],
   "source": [
    "X_train, X_test, y_train, y_test = train_test_split(X_vect_df, y, stratify=y, random_state=42)"
   ]
  },
  {
   "cell_type": "markdown",
   "metadata": {},
   "source": [
    "### Logistic Regression\n",
    "#### Accuracy = 0.759 (no noticeable improvement despite new feature inclusion.**"
   ]
  },
  {
   "cell_type": "code",
   "execution_count": 670,
   "metadata": {},
   "outputs": [
    {
     "name": "stdout",
     "output_type": "stream",
     "text": [
      "0.9509408602150538\n",
      "0.7585513078470825\n",
      "{'C': 0.5, 'penalty': 'l2'}\n",
      "0.7526881720430108\n"
     ]
    }
   ],
   "source": [
    "logreg = LogisticRegression()\n",
    "\n",
    "params = {'penalty':['l2', 'l1'],\n",
    "          'C':[0.001, 0.1, 0.5, 1.0, 2.0, 10]}\n",
    "grid = GridSearchCV(logreg, param_grid=params, cv=5)\n",
    "\n",
    "grid.fit(X_train, y_train)\n",
    "print(grid.score(X_train, y_train))\n",
    "print(grid.score(X_test, y_test))\n",
    "print(grid.best_params_)\n",
    "print(grid.best_score_)"
   ]
  },
  {
   "cell_type": "markdown",
   "metadata": {},
   "source": [
    "### Logistic Regression Bag Classifier\n",
    "#### Accuracy = 0.754 (again, no improvement)"
   ]
  },
  {
   "cell_type": "code",
   "execution_count": 689,
   "metadata": {},
   "outputs": [
    {
     "name": "stdout",
     "output_type": "stream",
     "text": [
      "Fitting 5 folds for each of 1 candidates, totalling 5 fits\n",
      "[CV] max_features=1.0, max_samples=1.0, n_estimators=50 ..............\n"
     ]
    },
    {
     "name": "stderr",
     "output_type": "stream",
     "text": [
      "[Parallel(n_jobs=1)]: Using backend SequentialBackend with 1 concurrent workers.\n"
     ]
    },
    {
     "name": "stdout",
     "output_type": "stream",
     "text": [
      "[CV]  max_features=1.0, max_samples=1.0, n_estimators=50, total=   2.7s\n",
      "[CV] max_features=1.0, max_samples=1.0, n_estimators=50 ..............\n"
     ]
    },
    {
     "name": "stderr",
     "output_type": "stream",
     "text": [
      "[Parallel(n_jobs=1)]: Done   1 out of   1 | elapsed:    3.3s remaining:    0.0s\n"
     ]
    },
    {
     "name": "stdout",
     "output_type": "stream",
     "text": [
      "[CV]  max_features=1.0, max_samples=1.0, n_estimators=50, total=   2.6s\n",
      "[CV] max_features=1.0, max_samples=1.0, n_estimators=50 ..............\n",
      "[CV]  max_features=1.0, max_samples=1.0, n_estimators=50, total=   2.7s\n",
      "[CV] max_features=1.0, max_samples=1.0, n_estimators=50 ..............\n",
      "[CV]  max_features=1.0, max_samples=1.0, n_estimators=50, total=   2.7s\n",
      "[CV] max_features=1.0, max_samples=1.0, n_estimators=50 ..............\n",
      "[CV]  max_features=1.0, max_samples=1.0, n_estimators=50, total=   2.8s\n"
     ]
    },
    {
     "name": "stderr",
     "output_type": "stream",
     "text": [
      "[Parallel(n_jobs=1)]: Done   5 out of   5 | elapsed:   16.5s finished\n"
     ]
    },
    {
     "name": "stdout",
     "output_type": "stream",
     "text": [
      "0.7479838709677419\n",
      "{'max_features': 1.0, 'max_samples': 1.0, 'n_estimators': 50}\n",
      "0.9193548387096774\n",
      "0.7545271629778671\n"
     ]
    }
   ],
   "source": [
    "logreg_bag = BaggingClassifier(base_estimator=LogisticRegression(C=0.5))\n",
    "\n",
    "params = {'max_samples':[1.0],\n",
    "          'n_estimators':[50],\n",
    "          'max_features':[1.0]\n",
    "         }\n",
    "\n",
    "logbag_grid = GridSearchCV(logreg_bag, param_grid=params, cv=5, verbose=2)\n",
    "\n",
    "logbag_grid.fit(X_train, y_train)\n",
    "\n",
    "print(logbag_grid.best_score_)\n",
    "print(logbag_grid.best_params_)\n",
    "print(logbag_grid.score(X_train, y_train))\n",
    "print(logbag_grid.score(X_test, y_test))"
   ]
  },
  {
   "cell_type": "markdown",
   "metadata": {},
   "source": [
    "## Decision Tree Bag Classifier\n",
    "#### Accuracy = 0.823"
   ]
  },
  {
   "cell_type": "code",
   "execution_count": 709,
   "metadata": {},
   "outputs": [
    {
     "name": "stdout",
     "output_type": "stream",
     "text": [
      "Fitting 3 folds for each of 3 candidates, totalling 9 fits\n"
     ]
    },
    {
     "name": "stderr",
     "output_type": "stream",
     "text": [
      "[Parallel(n_jobs=1)]: Using backend SequentialBackend with 1 concurrent workers.\n",
      "[Parallel(n_jobs=1)]: Done   9 out of   9 | elapsed:   52.1s finished\n"
     ]
    },
    {
     "name": "stdout",
     "output_type": "stream",
     "text": [
      "0.8279569892473119\n",
      "{'bootstrap': True, 'bootstrap_features': False, 'max_features': 0.5, 'max_samples': 1.0, 'n_estimators': 100}\n",
      "1.0\n",
      "0.8229376257545271\n"
     ]
    }
   ],
   "source": [
    "bag_grid = BaggingClassifier()\n",
    "\n",
    "params = {'max_samples':[1.0],\n",
    "          'n_estimators':[100],\n",
    "          'max_features':[0.75, 0.5, 1.0],\n",
    "          'bootstrap':[True],\n",
    "          'bootstrap_features':[False]\n",
    "         }\n",
    "\n",
    "treebag_grid = GridSearchCV(bag_grid, param_grid=params, cv=3, verbose=1)\n",
    "\n",
    "treebag_grid.fit(X_train, y_train)\n",
    "\n",
    "print(treebag_grid.best_score_)\n",
    "print(treebag_grid.best_params_)\n",
    "print(treebag_grid.score(X_train, y_train))\n",
    "print(treebag_grid.score(X_test, y_test))"
   ]
  },
  {
   "cell_type": "markdown",
   "metadata": {},
   "source": [
    "### Another iteration of the Bagging Tree Classifier\n",
    "#### Accuracy = 0.829"
   ]
  },
  {
   "cell_type": "code",
   "execution_count": 736,
   "metadata": {},
   "outputs": [
    {
     "name": "stdout",
     "output_type": "stream",
     "text": [
      "1.0\n",
      "0.8289738430583501\n"
     ]
    }
   ],
   "source": [
    "tree_bag = BaggingClassifier(n_estimators=100, \n",
    "                             bootstrap=True,\n",
    "                             bootstrap_features=False,\n",
    "                             max_features = 0.75,\n",
    "                             max_samples = 1.0)\n",
    "\n",
    "tree_bag.fit(X_train, y_train)\n",
    "\n",
    "print(tree_bag.score(X_train, y_train))\n",
    "print(tree_bag.score(X_test, y_test))"
   ]
  },
  {
   "cell_type": "markdown",
   "metadata": {},
   "source": [
    "## Running multiple iterations and taking an average score and Standard Deviation\n",
    "### Decision Trees are schocastic models, so different iterations will have slight differences."
   ]
  },
  {
   "cell_type": "code",
   "execution_count": 725,
   "metadata": {},
   "outputs": [
    {
     "name": "stdout",
     "output_type": "stream",
     "text": [
      "Our model performs with an average accuracy of 0.8202213279678068 after 20 iterations, \n",
      "          and a standard deviation of 0.00671185263747321.\n"
     ]
    }
   ],
   "source": [
    "score_list = []\n",
    "for i in range(20):\n",
    "    tree_bag_test = BaggingClassifier(n_estimators=100, \n",
    "                             bootstrap=True,\n",
    "                             bootstrap_features=False,\n",
    "                             max_features = 0.75,\n",
    "                             max_samples = 1.0)\n",
    "    \n",
    "    tree_bag_test.fit(X_train, y_train)\n",
    "    score_list.append(tree_bag_test.score(X_test, y_test))\n",
    "\n",
    "print(\"\"\"Our model performs with an average accuracy of {} after 20 iterations, \n",
    "          and a standard deviation of {}.\"\"\".format(np.mean(score_list), np.std(score_list)))\n",
    "\n"
   ]
  },
  {
   "cell_type": "markdown",
   "metadata": {},
   "source": [
    "### Making predictions on our holdout test data"
   ]
  },
  {
   "cell_type": "code",
   "execution_count": 737,
   "metadata": {},
   "outputs": [],
   "source": [
    "predictions = tree_bag.predict(X_test)"
   ]
  },
  {
   "cell_type": "markdown",
   "metadata": {},
   "source": [
    "# Evaluating the Model"
   ]
  },
  {
   "cell_type": "code",
   "execution_count": 738,
   "metadata": {},
   "outputs": [
    {
     "data": {
      "text/plain": [
       "array([[202,  47],\n",
       "       [ 38, 210]])"
      ]
     },
     "execution_count": 738,
     "metadata": {},
     "output_type": "execute_result"
    }
   ],
   "source": [
    "cm = confusion_matrix(y_test, predictions)\n",
    "cm"
   ]
  },
  {
   "cell_type": "markdown",
   "metadata": {},
   "source": [
    "## The model correctly predicted: \n",
    "- **202 posts from the Climate Subreddit.**\n",
    "- **210 posts from the Climate Skeptics Subreddit.**\n",
    "\n",
    "### The model incorrectly predicted \n",
    "- **38 posts from the Climate Skeptics as from the Climate subreddit**\n",
    "- **47 posts from the Climate forum as from the Climate Skeptics subreddit**"
   ]
  },
  {
   "cell_type": "code",
   "execution_count": 740,
   "metadata": {
    "scrolled": true
   },
   "outputs": [
    {
     "data": {
      "text/html": [
       "<div>\n",
       "<style scoped>\n",
       "    .dataframe tbody tr th:only-of-type {\n",
       "        vertical-align: middle;\n",
       "    }\n",
       "\n",
       "    .dataframe tbody tr th {\n",
       "        vertical-align: top;\n",
       "    }\n",
       "\n",
       "    .dataframe thead th {\n",
       "        text-align: right;\n",
       "    }\n",
       "</style>\n",
       "<table border=\"1\" class=\"dataframe\">\n",
       "  <thead>\n",
       "    <tr style=\"text-align: right;\">\n",
       "      <th></th>\n",
       "      <th>Predicted Negatives</th>\n",
       "      <th>Predicted Positives</th>\n",
       "    </tr>\n",
       "  </thead>\n",
       "  <tbody>\n",
       "    <tr>\n",
       "      <th>Actual Negatives</th>\n",
       "      <td>202</td>\n",
       "      <td>47</td>\n",
       "    </tr>\n",
       "    <tr>\n",
       "      <th>Actual Positives</th>\n",
       "      <td>38</td>\n",
       "      <td>210</td>\n",
       "    </tr>\n",
       "  </tbody>\n",
       "</table>\n",
       "</div>"
      ],
      "text/plain": [
       "                  Predicted Negatives  Predicted Positives\n",
       "Actual Negatives                  202                   47\n",
       "Actual Positives                   38                  210"
      ]
     },
     "execution_count": 740,
     "metadata": {},
     "output_type": "execute_result"
    }
   ],
   "source": [
    "cm_df = pd.DataFrame(data=cm, \n",
    "                     index=['Actual Negatives', 'Actual Positives'], \n",
    "                     columns=['Predicted Negatives', 'Predicted Positives'])\n",
    "cm_df"
   ]
  },
  {
   "cell_type": "code",
   "execution_count": 741,
   "metadata": {},
   "outputs": [
    {
     "data": {
      "text/plain": [
       "0.8289738430583501"
      ]
     },
     "execution_count": 741,
     "metadata": {},
     "output_type": "execute_result"
    }
   ],
   "source": [
    "accuracy = accuracy_score(y_test, predictions)\n",
    "accuracy"
   ]
  },
  {
   "cell_type": "code",
   "execution_count": 773,
   "metadata": {},
   "outputs": [],
   "source": [
    "# true_positives = cm_df.iloc[[1],[1]].items\n",
    "# true_negatives = cm_df.iloc[[0],[0]].items\n",
    "# false_positives = cm_df.iloc[[0],[1]].items\n",
    "# false_negatives = cm_df.iloc[[1],[0]].items\n",
    "\n",
    "true_positives = cm_df.iat[1,1]\n",
    "true_negatives = cm_df.iat[0,0]\n",
    "false_positives = cm_df.iat[0,1]\n",
    "false_negatives = cm_df.iat[1,0]\n"
   ]
  },
  {
   "cell_type": "code",
   "execution_count": 774,
   "metadata": {},
   "outputs": [
    {
     "data": {
      "text/plain": [
       "0.8467741935483871"
      ]
     },
     "execution_count": 774,
     "metadata": {},
     "output_type": "execute_result"
    }
   ],
   "source": [
    "#sensitivity - how well the model does at truly predicting a post is from the climate skeptics subreddit\n",
    "sensitivity = true_positives / (true_positives + false_negatives)\n",
    "sensitivity"
   ]
  },
  {
   "cell_type": "code",
   "execution_count": 777,
   "metadata": {},
   "outputs": [
    {
     "data": {
      "text/plain": [
       "0.8112449799196787"
      ]
     },
     "execution_count": 777,
     "metadata": {},
     "output_type": "execute_result"
    }
   ],
   "source": [
    "#specificity - how well the model does at truly predicting a post is from the climate subreddit\n",
    "specificity = true_negatives / (true_negatives + false_positives)\n",
    "specificity"
   ]
  },
  {
   "cell_type": "code",
   "execution_count": 776,
   "metadata": {},
   "outputs": [
    {
     "data": {
      "text/plain": [
       "0.1710261569416499"
      ]
     },
     "execution_count": 776,
     "metadata": {},
     "output_type": "execute_result"
    }
   ],
   "source": [
    "misclassification = 1 - accuracy\n",
    "misclassification"
   ]
  },
  {
   "cell_type": "markdown",
   "metadata": {},
   "source": [
    "### Finding the index for all incorrectly classified reddit posts"
   ]
  },
  {
   "cell_type": "code",
   "execution_count": 831,
   "metadata": {},
   "outputs": [],
   "source": [
    "y_test_df = pd.DataFrame(data=y_test)"
   ]
  },
  {
   "cell_type": "code",
   "execution_count": 833,
   "metadata": {},
   "outputs": [],
   "source": [
    "y_test_df['predictions'] = predictions"
   ]
  },
  {
   "cell_type": "markdown",
   "metadata": {},
   "source": [
    "_DataFrame slice with only the misclassified posts._"
   ]
  },
  {
   "cell_type": "code",
   "execution_count": 837,
   "metadata": {},
   "outputs": [],
   "source": [
    "misclassified = y_test_df[y_test_df['subreddit'] != y_test_df['predictions']]"
   ]
  },
  {
   "cell_type": "markdown",
   "metadata": {},
   "source": [
    "_Pulling the indices from misclassified as lists of posts from each subreddit._"
   ]
  },
  {
   "cell_type": "code",
   "execution_count": 844,
   "metadata": {},
   "outputs": [
    {
     "data": {
      "text/plain": [
       "38"
      ]
     },
     "execution_count": 844,
     "metadata": {},
     "output_type": "execute_result"
    }
   ],
   "source": [
    "#the lengths match our confusion matrix false predictions.\n",
    "misclassified_skeptic_rows = list(misclassified[misclassified['subreddit'] == 1].index)\n",
    "len(misclassified_skeptic_rows)"
   ]
  },
  {
   "cell_type": "code",
   "execution_count": 902,
   "metadata": {
    "scrolled": true
   },
   "outputs": [
    {
     "data": {
      "text/plain": [
       "47"
      ]
     },
     "execution_count": 902,
     "metadata": {},
     "output_type": "execute_result"
    }
   ],
   "source": [
    "misclassified_climate_rows = list(misclassified[misclassified['subreddit'] == 0].index)\n",
    "len(misclassified_climate_rows)"
   ]
  },
  {
   "cell_type": "code",
   "execution_count": 907,
   "metadata": {},
   "outputs": [
    {
     "data": {
      "text/plain": [
       "array([768, 891,  99])"
      ]
     },
     "execution_count": 907,
     "metadata": {},
     "output_type": "execute_result"
    }
   ],
   "source": [
    "np.random.choice(misclassified_climate_rows, 3)"
   ]
  },
  {
   "cell_type": "code",
   "execution_count": 905,
   "metadata": {},
   "outputs": [
    {
     "data": {
      "text/plain": [
       "array([1297, 1703, 1047])"
      ]
     },
     "execution_count": 905,
     "metadata": {},
     "output_type": "execute_result"
    }
   ],
   "source": [
    "np.random.choice(misclassified_skeptic_rows, 3)"
   ]
  },
  {
   "cell_type": "code",
   "execution_count": 913,
   "metadata": {},
   "outputs": [
    {
     "data": {
      "text/html": [
       "<div>\n",
       "<style scoped>\n",
       "    .dataframe tbody tr th:only-of-type {\n",
       "        vertical-align: middle;\n",
       "    }\n",
       "\n",
       "    .dataframe tbody tr th {\n",
       "        vertical-align: top;\n",
       "    }\n",
       "\n",
       "    .dataframe thead th {\n",
       "        text-align: right;\n",
       "    }\n",
       "</style>\n",
       "<table border=\"1\" class=\"dataframe\">\n",
       "  <thead>\n",
       "    <tr style=\"text-align: right;\">\n",
       "      <th></th>\n",
       "      <th>title</th>\n",
       "      <th>domain</th>\n",
       "      <th>subreddit</th>\n",
       "    </tr>\n",
       "  </thead>\n",
       "  <tbody>\n",
       "    <tr>\n",
       "      <th>781</th>\n",
       "      <td>Controversial spraying method aims to curb glo...</td>\n",
       "      <td>cbsnews.com</td>\n",
       "      <td>0</td>\n",
       "    </tr>\n",
       "    <tr>\n",
       "      <th>891</th>\n",
       "      <td>Why Is a Climate Change Skeptic Headlining Sci...</td>\n",
       "      <td>thedailybeast.com</td>\n",
       "      <td>0</td>\n",
       "    </tr>\n",
       "    <tr>\n",
       "      <th>99</th>\n",
       "      <td>Societies are too divided to combat climate ch...</td>\n",
       "      <td>consciousnessofsheep.co.uk</td>\n",
       "      <td>0</td>\n",
       "    </tr>\n",
       "    <tr>\n",
       "      <th>1297</th>\n",
       "      <td>Labor’s solar battery cash splash to cut power...</td>\n",
       "      <td>thewest.com.au</td>\n",
       "      <td>1</td>\n",
       "    </tr>\n",
       "    <tr>\n",
       "      <th>1703</th>\n",
       "      <td>How seriously do we take Climate Change?</td>\n",
       "      <td>kaolosphere.blogspot.com</td>\n",
       "      <td>1</td>\n",
       "    </tr>\n",
       "    <tr>\n",
       "      <th>1047</th>\n",
       "      <td>About Those French Protests: 5 Insights</td>\n",
       "      <td>nofrakkingconsensus.com</td>\n",
       "      <td>1</td>\n",
       "    </tr>\n",
       "  </tbody>\n",
       "</table>\n",
       "</div>"
      ],
      "text/plain": [
       "                                                  title  \\\n",
       "781   Controversial spraying method aims to curb glo...   \n",
       "891   Why Is a Climate Change Skeptic Headlining Sci...   \n",
       "99    Societies are too divided to combat climate ch...   \n",
       "1297  Labor’s solar battery cash splash to cut power...   \n",
       "1703           How seriously do we take Climate Change?   \n",
       "1047            About Those French Protests: 5 Insights   \n",
       "\n",
       "                          domain  subreddit  \n",
       "781                  cbsnews.com          0  \n",
       "891            thedailybeast.com          0  \n",
       "99    consciousnessofsheep.co.uk          0  \n",
       "1297              thewest.com.au          1  \n",
       "1703    kaolosphere.blogspot.com          1  \n",
       "1047     nofrakkingconsensus.com          1  "
      ]
     },
     "execution_count": 913,
     "metadata": {},
     "output_type": "execute_result"
    }
   ],
   "source": [
    "df.iloc[[781, 891, 99, 1297, 1703, 1047]][['title', 'domain', 'subreddit']]"
   ]
  },
  {
   "cell_type": "code",
   "execution_count": 857,
   "metadata": {
    "scrolled": true
   },
   "outputs": [
    {
     "data": {
      "text/html": [
       "<div>\n",
       "<style scoped>\n",
       "    .dataframe tbody tr th:only-of-type {\n",
       "        vertical-align: middle;\n",
       "    }\n",
       "\n",
       "    .dataframe tbody tr th {\n",
       "        vertical-align: top;\n",
       "    }\n",
       "\n",
       "    .dataframe thead th {\n",
       "        text-align: right;\n",
       "    }\n",
       "</style>\n",
       "<table border=\"1\" class=\"dataframe\">\n",
       "  <thead>\n",
       "    <tr style=\"text-align: right;\">\n",
       "      <th></th>\n",
       "      <th>title</th>\n",
       "      <th>domain</th>\n",
       "    </tr>\n",
       "  </thead>\n",
       "  <tbody>\n",
       "    <tr>\n",
       "      <th>555</th>\n",
       "      <td>2018-19 Hurricane Landfalls Predicted Months i...</td>\n",
       "      <td>sfgate.com</td>\n",
       "    </tr>\n",
       "    <tr>\n",
       "      <th>406</th>\n",
       "      <td>Why we should stop labelling people climate ch...</td>\n",
       "      <td>theconversation.com</td>\n",
       "    </tr>\n",
       "    <tr>\n",
       "      <th>472</th>\n",
       "      <td>The climate apocalypse is becoming a 'medical ...</td>\n",
       "      <td>businessinsider.com</td>\n",
       "    </tr>\n",
       "    <tr>\n",
       "      <th>768</th>\n",
       "      <td>Marshall Islands first nation to submit bindin...</td>\n",
       "      <td>economictimes.indiatimes.com</td>\n",
       "    </tr>\n",
       "    <tr>\n",
       "      <th>206</th>\n",
       "      <td>Hey guys, I've made a short video essay for my...</td>\n",
       "      <td>youtube.com</td>\n",
       "    </tr>\n",
       "    <tr>\n",
       "      <th>654</th>\n",
       "      <td>If this guy doesn’t believe it, it must not be...</td>\n",
       "      <td>dailym.ai</td>\n",
       "    </tr>\n",
       "    <tr>\n",
       "      <th>315</th>\n",
       "      <td>Coal Use Continues to Decline in the U.S.</td>\n",
       "      <td>scientificamerican.com</td>\n",
       "    </tr>\n",
       "    <tr>\n",
       "      <th>366</th>\n",
       "      <td>Climate Denialism’s Stupidity Is the Point — A...</td>\n",
       "      <td>bloomberg.com</td>\n",
       "    </tr>\n",
       "    <tr>\n",
       "      <th>540</th>\n",
       "      <td>This fact-checker got several news outlets to ...</td>\n",
       "      <td>poynter.org</td>\n",
       "    </tr>\n",
       "    <tr>\n",
       "      <th>727</th>\n",
       "      <td>More than 100 sea turtles found dead off Cape Cod</td>\n",
       "      <td>cnn.com</td>\n",
       "    </tr>\n",
       "    <tr>\n",
       "      <th>121</th>\n",
       "      <td>Analysis: How much ‘carbon budget' is left to ...</td>\n",
       "      <td>carbonbrief.org</td>\n",
       "    </tr>\n",
       "    <tr>\n",
       "      <th>187</th>\n",
       "      <td>The Club Of Rome Climate Emergency Plan</td>\n",
       "      <td>clubofrome.org</td>\n",
       "    </tr>\n",
       "    <tr>\n",
       "      <th>4</th>\n",
       "      <td>Tariffs cast a shadow on U.S. solar industry</td>\n",
       "      <td>cbsnews.com</td>\n",
       "    </tr>\n",
       "    <tr>\n",
       "      <th>700</th>\n",
       "      <td>Depletion of nitrogen in forest soil could red...</td>\n",
       "      <td>bayjournal.com</td>\n",
       "    </tr>\n",
       "    <tr>\n",
       "      <th>832</th>\n",
       "      <td>[crosspost] I am Robbie Parks, a PhD student l...</td>\n",
       "      <td>self.IAmA</td>\n",
       "    </tr>\n",
       "    <tr>\n",
       "      <th>1</th>\n",
       "      <td>The scientific consensus on climate change is ...</td>\n",
       "      <td>i.redd.it</td>\n",
       "    </tr>\n",
       "    <tr>\n",
       "      <th>106</th>\n",
       "      <td>Commentary: Initiative shrinking oil industry'...</td>\n",
       "      <td>houstonchronicle.com</td>\n",
       "    </tr>\n",
       "    <tr>\n",
       "      <th>775</th>\n",
       "      <td>'The Window of Opportunity for Action Is Almos...</td>\n",
       "      <td>ecowatch.com</td>\n",
       "    </tr>\n",
       "    <tr>\n",
       "      <th>224</th>\n",
       "      <td>What California’s Devastating Wildfires Signal...</td>\n",
       "      <td>time.com</td>\n",
       "    </tr>\n",
       "    <tr>\n",
       "      <th>313</th>\n",
       "      <td>Sea levels may rise more rapidly due to Greenl...</td>\n",
       "      <td>theguardian.com</td>\n",
       "    </tr>\n",
       "    <tr>\n",
       "      <th>330</th>\n",
       "      <td>Permafrost: a climate time bomb?</td>\n",
       "      <td>phys.org</td>\n",
       "    </tr>\n",
       "    <tr>\n",
       "      <th>891</th>\n",
       "      <td>Why Is a Climate Change Skeptic Headlining Sci...</td>\n",
       "      <td>thedailybeast.com</td>\n",
       "    </tr>\n",
       "    <tr>\n",
       "      <th>458</th>\n",
       "      <td>The Apocalypse | ContraPoints (Fun short doc o...</td>\n",
       "      <td>youtube.com</td>\n",
       "    </tr>\n",
       "    <tr>\n",
       "      <th>769</th>\n",
       "      <td>Fourth National Climate Assessment Released</td>\n",
       "      <td>nca2018.globalchange.gov</td>\n",
       "    </tr>\n",
       "    <tr>\n",
       "      <th>726</th>\n",
       "      <td>Glorious rubbish, have we been wasting your en...</td>\n",
       "      <td>smh.com.au</td>\n",
       "    </tr>\n",
       "    <tr>\n",
       "      <th>600</th>\n",
       "      <td>Scientific agreement can neutralize the politi...</td>\n",
       "      <td>climatecommunication.yale.edu</td>\n",
       "    </tr>\n",
       "    <tr>\n",
       "      <th>52</th>\n",
       "      <td>Have the Democrats Hit a Tipping Point on Clim...</td>\n",
       "      <td>newrepublic.com</td>\n",
       "    </tr>\n",
       "    <tr>\n",
       "      <th>614</th>\n",
       "      <td>The White House Talking Points About the Natio...</td>\n",
       "      <td>earther.gizmodo.com</td>\n",
       "    </tr>\n",
       "    <tr>\n",
       "      <th>471</th>\n",
       "      <td>The entry into sustainable transport doesn't h...</td>\n",
       "      <td>youtu.be</td>\n",
       "    </tr>\n",
       "    <tr>\n",
       "      <th>863</th>\n",
       "      <td>Reduced pollution can add a year to the lives ...</td>\n",
       "      <td>phys.org</td>\n",
       "    </tr>\n",
       "    <tr>\n",
       "      <th>821</th>\n",
       "      <td>Ocean Warming Study Criticism Shows How the Sc...</td>\n",
       "      <td>desmogblog.com</td>\n",
       "    </tr>\n",
       "    <tr>\n",
       "      <th>702</th>\n",
       "      <td>GOP Shrugs Off Bombshell Climate Report</td>\n",
       "      <td>huffingtonpost.com</td>\n",
       "    </tr>\n",
       "    <tr>\n",
       "      <th>99</th>\n",
       "      <td>Societies are too divided to combat climate ch...</td>\n",
       "      <td>consciousnessofsheep.co.uk</td>\n",
       "    </tr>\n",
       "    <tr>\n",
       "      <th>795</th>\n",
       "      <td>Over 1500 in Massachusetts spending Thanksgivi...</td>\n",
       "      <td>foxnews.com</td>\n",
       "    </tr>\n",
       "    <tr>\n",
       "      <th>663</th>\n",
       "      <td>Now is the time for a global pact for the envi...</td>\n",
       "      <td>vancouversun.com</td>\n",
       "    </tr>\n",
       "    <tr>\n",
       "      <th>647</th>\n",
       "      <td>The Depravity of Climate-Change Denial: Riskin...</td>\n",
       "      <td>nytimes.com</td>\n",
       "    </tr>\n",
       "    <tr>\n",
       "      <th>372</th>\n",
       "      <td>Green Nightmare: Coal-Loving Manchin May Get E...</td>\n",
       "      <td>bloomberg.com</td>\n",
       "    </tr>\n",
       "    <tr>\n",
       "      <th>105</th>\n",
       "      <td>What would happen to the climate if we stopped...</td>\n",
       "      <td>theconversation.com</td>\n",
       "    </tr>\n",
       "    <tr>\n",
       "      <th>251</th>\n",
       "      <td>‘Great Dying': Biggest ever mass extinction tr...</td>\n",
       "      <td>independent.co.uk</td>\n",
       "    </tr>\n",
       "    <tr>\n",
       "      <th>217</th>\n",
       "      <td>What's the best article about climate change, ...</td>\n",
       "      <td>self.climate</td>\n",
       "    </tr>\n",
       "    <tr>\n",
       "      <th>791</th>\n",
       "      <td>Solar eclipse caused bow waves in Earth's atmo...</td>\n",
       "      <td>news.mit.edu</td>\n",
       "    </tr>\n",
       "    <tr>\n",
       "      <th>871</th>\n",
       "      <td>Climate change will bring multiple disasters a...</td>\n",
       "      <td>cbsnews.com</td>\n",
       "    </tr>\n",
       "    <tr>\n",
       "      <th>782</th>\n",
       "      <td>Hell in Paradise: Why the Camp Fire was the la...</td>\n",
       "      <td>thecottonwoodpost.net</td>\n",
       "    </tr>\n",
       "    <tr>\n",
       "      <th>34</th>\n",
       "      <td>Curious why some educated people deny humaniti...</td>\n",
       "      <td>self.climate</td>\n",
       "    </tr>\n",
       "    <tr>\n",
       "      <th>645</th>\n",
       "      <td>\"We don't have 12 years left, mitigation neede...</td>\n",
       "      <td>twitter.com</td>\n",
       "    </tr>\n",
       "    <tr>\n",
       "      <th>683</th>\n",
       "      <td>Which RCP are we headed for?</td>\n",
       "      <td>self.climate</td>\n",
       "    </tr>\n",
       "    <tr>\n",
       "      <th>842</th>\n",
       "      <td>Extinction Rebellion eyes global climate campa...</td>\n",
       "      <td>climatechangenews.com</td>\n",
       "    </tr>\n",
       "  </tbody>\n",
       "</table>\n",
       "</div>"
      ],
      "text/plain": [
       "                                                 title  \\\n",
       "555  2018-19 Hurricane Landfalls Predicted Months i...   \n",
       "406  Why we should stop labelling people climate ch...   \n",
       "472  The climate apocalypse is becoming a 'medical ...   \n",
       "768  Marshall Islands first nation to submit bindin...   \n",
       "206  Hey guys, I've made a short video essay for my...   \n",
       "654  If this guy doesn’t believe it, it must not be...   \n",
       "315          Coal Use Continues to Decline in the U.S.   \n",
       "366  Climate Denialism’s Stupidity Is the Point — A...   \n",
       "540  This fact-checker got several news outlets to ...   \n",
       "727  More than 100 sea turtles found dead off Cape Cod   \n",
       "121  Analysis: How much ‘carbon budget' is left to ...   \n",
       "187            The Club Of Rome Climate Emergency Plan   \n",
       "4         Tariffs cast a shadow on U.S. solar industry   \n",
       "700  Depletion of nitrogen in forest soil could red...   \n",
       "832  [crosspost] I am Robbie Parks, a PhD student l...   \n",
       "1    The scientific consensus on climate change is ...   \n",
       "106  Commentary: Initiative shrinking oil industry'...   \n",
       "775  'The Window of Opportunity for Action Is Almos...   \n",
       "224  What California’s Devastating Wildfires Signal...   \n",
       "313  Sea levels may rise more rapidly due to Greenl...   \n",
       "330                   Permafrost: a climate time bomb?   \n",
       "891  Why Is a Climate Change Skeptic Headlining Sci...   \n",
       "458  The Apocalypse | ContraPoints (Fun short doc o...   \n",
       "769        Fourth National Climate Assessment Released   \n",
       "726  Glorious rubbish, have we been wasting your en...   \n",
       "600  Scientific agreement can neutralize the politi...   \n",
       "52   Have the Democrats Hit a Tipping Point on Clim...   \n",
       "614  The White House Talking Points About the Natio...   \n",
       "471  The entry into sustainable transport doesn't h...   \n",
       "863  Reduced pollution can add a year to the lives ...   \n",
       "821  Ocean Warming Study Criticism Shows How the Sc...   \n",
       "702            GOP Shrugs Off Bombshell Climate Report   \n",
       "99   Societies are too divided to combat climate ch...   \n",
       "795  Over 1500 in Massachusetts spending Thanksgivi...   \n",
       "663  Now is the time for a global pact for the envi...   \n",
       "647  The Depravity of Climate-Change Denial: Riskin...   \n",
       "372  Green Nightmare: Coal-Loving Manchin May Get E...   \n",
       "105  What would happen to the climate if we stopped...   \n",
       "251  ‘Great Dying': Biggest ever mass extinction tr...   \n",
       "217  What's the best article about climate change, ...   \n",
       "791  Solar eclipse caused bow waves in Earth's atmo...   \n",
       "871  Climate change will bring multiple disasters a...   \n",
       "782  Hell in Paradise: Why the Camp Fire was the la...   \n",
       "34   Curious why some educated people deny humaniti...   \n",
       "645  \"We don't have 12 years left, mitigation neede...   \n",
       "683                       Which RCP are we headed for?   \n",
       "842  Extinction Rebellion eyes global climate campa...   \n",
       "\n",
       "                            domain  \n",
       "555                     sfgate.com  \n",
       "406            theconversation.com  \n",
       "472            businessinsider.com  \n",
       "768   economictimes.indiatimes.com  \n",
       "206                    youtube.com  \n",
       "654                      dailym.ai  \n",
       "315         scientificamerican.com  \n",
       "366                  bloomberg.com  \n",
       "540                    poynter.org  \n",
       "727                        cnn.com  \n",
       "121                carbonbrief.org  \n",
       "187                 clubofrome.org  \n",
       "4                      cbsnews.com  \n",
       "700                 bayjournal.com  \n",
       "832                      self.IAmA  \n",
       "1                        i.redd.it  \n",
       "106           houstonchronicle.com  \n",
       "775                   ecowatch.com  \n",
       "224                       time.com  \n",
       "313                theguardian.com  \n",
       "330                       phys.org  \n",
       "891              thedailybeast.com  \n",
       "458                    youtube.com  \n",
       "769       nca2018.globalchange.gov  \n",
       "726                     smh.com.au  \n",
       "600  climatecommunication.yale.edu  \n",
       "52                 newrepublic.com  \n",
       "614            earther.gizmodo.com  \n",
       "471                       youtu.be  \n",
       "863                       phys.org  \n",
       "821                 desmogblog.com  \n",
       "702             huffingtonpost.com  \n",
       "99      consciousnessofsheep.co.uk  \n",
       "795                    foxnews.com  \n",
       "663               vancouversun.com  \n",
       "647                    nytimes.com  \n",
       "372                  bloomberg.com  \n",
       "105            theconversation.com  \n",
       "251              independent.co.uk  \n",
       "217                   self.climate  \n",
       "791                   news.mit.edu  \n",
       "871                    cbsnews.com  \n",
       "782          thecottonwoodpost.net  \n",
       "34                    self.climate  \n",
       "645                    twitter.com  \n",
       "683                   self.climate  \n",
       "842          climatechangenews.com  "
      ]
     },
     "execution_count": 857,
     "metadata": {},
     "output_type": "execute_result"
    }
   ],
   "source": [
    "#Checking out the posts from climate subreddit that were misclassified\n",
    "df.iloc[misclassified_climate_rows][['title', 'domain']]"
   ]
  },
  {
   "cell_type": "code",
   "execution_count": 858,
   "metadata": {
    "scrolled": true
   },
   "outputs": [
    {
     "data": {
      "text/html": [
       "<div>\n",
       "<style scoped>\n",
       "    .dataframe tbody tr th:only-of-type {\n",
       "        vertical-align: middle;\n",
       "    }\n",
       "\n",
       "    .dataframe tbody tr th {\n",
       "        vertical-align: top;\n",
       "    }\n",
       "\n",
       "    .dataframe thead th {\n",
       "        text-align: right;\n",
       "    }\n",
       "</style>\n",
       "<table border=\"1\" class=\"dataframe\">\n",
       "  <thead>\n",
       "    <tr style=\"text-align: right;\">\n",
       "      <th></th>\n",
       "      <th>title</th>\n",
       "      <th>domain</th>\n",
       "    </tr>\n",
       "  </thead>\n",
       "  <tbody>\n",
       "    <tr>\n",
       "      <th>1364</th>\n",
       "      <td>Climate of Complete Certainty</td>\n",
       "      <td>nyti.ms</td>\n",
       "    </tr>\n",
       "    <tr>\n",
       "      <th>1647</th>\n",
       "      <td>Obama's endangerment finding for CO2 is based ...</td>\n",
       "      <td>youtu.be</td>\n",
       "    </tr>\n",
       "    <tr>\n",
       "      <th>1601</th>\n",
       "      <td>The Harm from Bad Science (Part III: Climate C...</td>\n",
       "      <td>masterresource.org</td>\n",
       "    </tr>\n",
       "    <tr>\n",
       "      <th>1605</th>\n",
       "      <td>Delingpole: Shock Study: Global Warming Has Ma...</td>\n",
       "      <td>breitbart.com</td>\n",
       "    </tr>\n",
       "    <tr>\n",
       "      <th>1047</th>\n",
       "      <td>About Those French Protests: 5 Insights</td>\n",
       "      <td>nofrakkingconsensus.com</td>\n",
       "    </tr>\n",
       "    <tr>\n",
       "      <th>1727</th>\n",
       "      <td>Larry Kudlow: The UN Is Overestimating Climate...</td>\n",
       "      <td>dailycaller.com</td>\n",
       "    </tr>\n",
       "    <tr>\n",
       "      <th>1139</th>\n",
       "      <td>22,000 To Attend The Katowice Jolly!</td>\n",
       "      <td>notalotofpeopleknowthat.wordpress.com</td>\n",
       "    </tr>\n",
       "    <tr>\n",
       "      <th>1916</th>\n",
       "      <td>For the Poor, How Much Energy Is Enough?</td>\n",
       "      <td>masterresource.org</td>\n",
       "    </tr>\n",
       "    <tr>\n",
       "      <th>989</th>\n",
       "      <td>\"Why Greens are Turning Away from a Carbon Tax...</td>\n",
       "      <td>masterresource.org</td>\n",
       "    </tr>\n",
       "    <tr>\n",
       "      <th>1557</th>\n",
       "      <td>China Is Expected to Phase Out Renewable Subsi...</td>\n",
       "      <td>instituteforenergyresearch.org</td>\n",
       "    </tr>\n",
       "    <tr>\n",
       "      <th>1338</th>\n",
       "      <td>Out of Season Climate Chaos</td>\n",
       "      <td>youtu.be</td>\n",
       "    </tr>\n",
       "    <tr>\n",
       "      <th>1841</th>\n",
       "      <td>Poll: Tom Steyer’s Green energy campaign isn’t...</td>\n",
       "      <td>cfact.org</td>\n",
       "    </tr>\n",
       "    <tr>\n",
       "      <th>1302</th>\n",
       "      <td>What are you go-to information data bases and ...</td>\n",
       "      <td>self.climateskeptics</td>\n",
       "    </tr>\n",
       "    <tr>\n",
       "      <th>1115</th>\n",
       "      <td>As the UN Holds Global Climate Talks, Climate ...</td>\n",
       "      <td>heartland.org</td>\n",
       "    </tr>\n",
       "    <tr>\n",
       "      <th>1383</th>\n",
       "      <td>Valentina Zharkova: The Solar Magnet Field and...</td>\n",
       "      <td>watchers.news</td>\n",
       "    </tr>\n",
       "    <tr>\n",
       "      <th>1222</th>\n",
       "      <td>The Sun Drives our Climate Electromagnetically...</td>\n",
       "      <td>i.redd.it</td>\n",
       "    </tr>\n",
       "    <tr>\n",
       "      <th>1755</th>\n",
       "      <td>Low-emission cows: farming responds to climate...</td>\n",
       "      <td>theguardian.com</td>\n",
       "    </tr>\n",
       "    <tr>\n",
       "      <th>1263</th>\n",
       "      <td>With recent talk of low solar activity and glo...</td>\n",
       "      <td>julesandjames.blogspot.com</td>\n",
       "    </tr>\n",
       "    <tr>\n",
       "      <th>1860</th>\n",
       "      <td>Elevated CO2 Improves the Growth, Nutritional ...</td>\n",
       "      <td>co2science.org</td>\n",
       "    </tr>\n",
       "    <tr>\n",
       "      <th>1843</th>\n",
       "      <td>Toward a Fossil-fueled, Prosperous Future (new...</td>\n",
       "      <td>masterresource.org</td>\n",
       "    </tr>\n",
       "    <tr>\n",
       "      <th>1638</th>\n",
       "      <td>Dr. Patrick Michaels provides insight into the...</td>\n",
       "      <td>video.foxnews.com</td>\n",
       "    </tr>\n",
       "    <tr>\n",
       "      <th>1194</th>\n",
       "      <td>The media got it all wrong on the new US clima...</td>\n",
       "      <td>nypost.com</td>\n",
       "    </tr>\n",
       "    <tr>\n",
       "      <th>1889</th>\n",
       "      <td>Several AGs Defend Big Oil As King County’s Cl...</td>\n",
       "      <td>dailycaller.com</td>\n",
       "    </tr>\n",
       "    <tr>\n",
       "      <th>1374</th>\n",
       "      <td>But... but... muh climate refugees.......UN Mi...</td>\n",
       "      <td>m.youtube.com</td>\n",
       "    </tr>\n",
       "    <tr>\n",
       "      <th>1624</th>\n",
       "      <td>News - Why U.N. Climate Report Cannot Be Trusted</td>\n",
       "      <td>heartland.org</td>\n",
       "    </tr>\n",
       "    <tr>\n",
       "      <th>1155</th>\n",
       "      <td>USGS: California wildfires emitted as much CO2...</td>\n",
       "      <td>tallbloke.wordpress.com</td>\n",
       "    </tr>\n",
       "    <tr>\n",
       "      <th>988</th>\n",
       "      <td>Daily Caller Asked Paris Climate Accord Backer...</td>\n",
       "      <td>dailycaller.com</td>\n",
       "    </tr>\n",
       "    <tr>\n",
       "      <th>1822</th>\n",
       "      <td>El Nino alert declared by Bureau of Meteorolog...</td>\n",
       "      <td>weatherzone.com.au</td>\n",
       "    </tr>\n",
       "    <tr>\n",
       "      <th>1075</th>\n",
       "      <td>Britain’s oldest coal plants called on to avoi...</td>\n",
       "      <td>notalotofpeopleknowthat.wordpress.com</td>\n",
       "    </tr>\n",
       "    <tr>\n",
       "      <th>1269</th>\n",
       "      <td>G20 nations doing LESS than nothing on climate</td>\n",
       "      <td>burnmorecoal.com</td>\n",
       "    </tr>\n",
       "    <tr>\n",
       "      <th>1117</th>\n",
       "      <td>Plastic found in endangered green sea turtle’s...</td>\n",
       "      <td>i.redd.it</td>\n",
       "    </tr>\n",
       "    <tr>\n",
       "      <th>1297</th>\n",
       "      <td>Labor’s solar battery cash splash to cut power...</td>\n",
       "      <td>thewest.com.au</td>\n",
       "    </tr>\n",
       "    <tr>\n",
       "      <th>1160</th>\n",
       "      <td>The troposphere is not warming as predicted by...</td>\n",
       "      <td>remss.com</td>\n",
       "    </tr>\n",
       "    <tr>\n",
       "      <th>1789</th>\n",
       "      <td>\"SCIENTISTS\" CLAIM CLIMATE CHANGE IS HERE. SAY...</td>\n",
       "      <td>youtube.com</td>\n",
       "    </tr>\n",
       "    <tr>\n",
       "      <th>1388</th>\n",
       "      <td>Valentina Zharkova presentation to the Global ...</td>\n",
       "      <td>youtu.be</td>\n",
       "    </tr>\n",
       "    <tr>\n",
       "      <th>1866</th>\n",
       "      <td>\"Greenhouse Policy without Regrets\" (Adler pie...</td>\n",
       "      <td>masterresource.org</td>\n",
       "    </tr>\n",
       "    <tr>\n",
       "      <th>983</th>\n",
       "      <td>Climate scientist speaks out against “academic...</td>\n",
       "      <td>dailycaller.com</td>\n",
       "    </tr>\n",
       "    <tr>\n",
       "      <th>1703</th>\n",
       "      <td>How seriously do we take Climate Change?</td>\n",
       "      <td>kaolosphere.blogspot.com</td>\n",
       "    </tr>\n",
       "  </tbody>\n",
       "</table>\n",
       "</div>"
      ],
      "text/plain": [
       "                                                  title  \\\n",
       "1364                      Climate of Complete Certainty   \n",
       "1647  Obama's endangerment finding for CO2 is based ...   \n",
       "1601  The Harm from Bad Science (Part III: Climate C...   \n",
       "1605  Delingpole: Shock Study: Global Warming Has Ma...   \n",
       "1047            About Those French Protests: 5 Insights   \n",
       "1727  Larry Kudlow: The UN Is Overestimating Climate...   \n",
       "1139               22,000 To Attend The Katowice Jolly!   \n",
       "1916           For the Poor, How Much Energy Is Enough?   \n",
       "989   \"Why Greens are Turning Away from a Carbon Tax...   \n",
       "1557  China Is Expected to Phase Out Renewable Subsi...   \n",
       "1338                        Out of Season Climate Chaos   \n",
       "1841  Poll: Tom Steyer’s Green energy campaign isn’t...   \n",
       "1302  What are you go-to information data bases and ...   \n",
       "1115  As the UN Holds Global Climate Talks, Climate ...   \n",
       "1383  Valentina Zharkova: The Solar Magnet Field and...   \n",
       "1222  The Sun Drives our Climate Electromagnetically...   \n",
       "1755  Low-emission cows: farming responds to climate...   \n",
       "1263  With recent talk of low solar activity and glo...   \n",
       "1860  Elevated CO2 Improves the Growth, Nutritional ...   \n",
       "1843  Toward a Fossil-fueled, Prosperous Future (new...   \n",
       "1638  Dr. Patrick Michaels provides insight into the...   \n",
       "1194  The media got it all wrong on the new US clima...   \n",
       "1889  Several AGs Defend Big Oil As King County’s Cl...   \n",
       "1374  But... but... muh climate refugees.......UN Mi...   \n",
       "1624   News - Why U.N. Climate Report Cannot Be Trusted   \n",
       "1155  USGS: California wildfires emitted as much CO2...   \n",
       "988   Daily Caller Asked Paris Climate Accord Backer...   \n",
       "1822  El Nino alert declared by Bureau of Meteorolog...   \n",
       "1075  Britain’s oldest coal plants called on to avoi...   \n",
       "1269     G20 nations doing LESS than nothing on climate   \n",
       "1117  Plastic found in endangered green sea turtle’s...   \n",
       "1297  Labor’s solar battery cash splash to cut power...   \n",
       "1160  The troposphere is not warming as predicted by...   \n",
       "1789  \"SCIENTISTS\" CLAIM CLIMATE CHANGE IS HERE. SAY...   \n",
       "1388  Valentina Zharkova presentation to the Global ...   \n",
       "1866  \"Greenhouse Policy without Regrets\" (Adler pie...   \n",
       "983   Climate scientist speaks out against “academic...   \n",
       "1703           How seriously do we take Climate Change?   \n",
       "\n",
       "                                     domain  \n",
       "1364                                nyti.ms  \n",
       "1647                               youtu.be  \n",
       "1601                     masterresource.org  \n",
       "1605                          breitbart.com  \n",
       "1047                nofrakkingconsensus.com  \n",
       "1727                        dailycaller.com  \n",
       "1139  notalotofpeopleknowthat.wordpress.com  \n",
       "1916                     masterresource.org  \n",
       "989                      masterresource.org  \n",
       "1557         instituteforenergyresearch.org  \n",
       "1338                               youtu.be  \n",
       "1841                              cfact.org  \n",
       "1302                   self.climateskeptics  \n",
       "1115                          heartland.org  \n",
       "1383                          watchers.news  \n",
       "1222                              i.redd.it  \n",
       "1755                        theguardian.com  \n",
       "1263             julesandjames.blogspot.com  \n",
       "1860                         co2science.org  \n",
       "1843                     masterresource.org  \n",
       "1638                      video.foxnews.com  \n",
       "1194                             nypost.com  \n",
       "1889                        dailycaller.com  \n",
       "1374                          m.youtube.com  \n",
       "1624                          heartland.org  \n",
       "1155                tallbloke.wordpress.com  \n",
       "988                         dailycaller.com  \n",
       "1822                     weatherzone.com.au  \n",
       "1075  notalotofpeopleknowthat.wordpress.com  \n",
       "1269                       burnmorecoal.com  \n",
       "1117                              i.redd.it  \n",
       "1297                         thewest.com.au  \n",
       "1160                              remss.com  \n",
       "1789                            youtube.com  \n",
       "1388                               youtu.be  \n",
       "1866                     masterresource.org  \n",
       "983                         dailycaller.com  \n",
       "1703               kaolosphere.blogspot.com  "
      ]
     },
     "execution_count": 858,
     "metadata": {},
     "output_type": "execute_result"
    }
   ],
   "source": [
    "#Checking out the posts from climate skeptics subreddit that were misclassified\n",
    "df.iloc[misclassified_skeptic_rows][['title', 'domain']]"
   ]
  }
 ],
 "metadata": {
  "kernelspec": {
   "display_name": "Python 3",
   "language": "python",
   "name": "python3"
  },
  "language_info": {
   "codemirror_mode": {
    "name": "ipython",
    "version": 3
   },
   "file_extension": ".py",
   "mimetype": "text/x-python",
   "name": "python",
   "nbconvert_exporter": "python",
   "pygments_lexer": "ipython3",
   "version": "3.6.6"
  }
 },
 "nbformat": 4,
 "nbformat_minor": 2
}
